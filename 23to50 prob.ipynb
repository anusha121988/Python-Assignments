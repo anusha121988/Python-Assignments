{
 "cells": [
  {
   "cell_type": "code",
   "execution_count": 87,
   "id": "a57799af-3832-4aa1-b113-b6246b85047d",
   "metadata": {},
   "outputs": [
    {
     "name": "stdout",
     "output_type": "stream",
     "text": [
      "hello\n"
     ]
    }
   ],
   "source": [
    "print('hello')\n"
   ]
  },
  {
   "cell_type": "markdown",
   "id": "c976c043-dad6-4c22-9bb6-578df648efdb",
   "metadata": {},
   "source": [
    "23. Write a function named factorial that accepts an integer n as argument. It should return \n",
    "the factorial of n if n is a positive integer. It should return -1 if n is a negative integer, and it \n",
    "should return 1 if n is zero."
   ]
  },
  {
   "cell_type": "code",
   "execution_count": 16,
   "id": "ebfbf0a9-b5c8-4659-bd84-484d1028682d",
   "metadata": {},
   "outputs": [],
   "source": [
    "def factorial(n):\n",
    "    if n<0:\n",
    "        return -1\n",
    "    elif n==0:\n",
    "        return 1\n",
    "    else:\n",
    "        f=1\n",
    "        for i in range(2,n+1):\n",
    "            f=i*f\n",
    "            return f\n",
    "    "
   ]
  },
  {
   "cell_type": "code",
   "execution_count": 17,
   "id": "594f407e-8a16-48d9-8abd-08ee757fd631",
   "metadata": {},
   "outputs": [
    {
     "data": {
      "text/plain": [
       "2"
      ]
     },
     "execution_count": 17,
     "metadata": {},
     "output_type": "execute_result"
    }
   ],
   "source": [
    "factorial(6)"
   ]
  },
  {
   "cell_type": "markdown",
   "id": "34cd2bcc-e39e-4dc4-8e5f-c081aa7c6800",
   "metadata": {},
   "source": [
    "24. \n",
    "The range of a list of numbers is the difference between the maximum and minimum values in the list\n",
    "Write a function named get_range that accepts a non-empty list of real numbers as argument. It \n",
    "should return the range of the list.\n",
    "(1) Avoid using built-in function such as max and min.\n",
    "(2) You do not have to accept input from the user or print output to the console. You just have to write \n",
    "the function definition."
   ]
  },
  {
   "cell_type": "code",
   "execution_count": 32,
   "id": "77893283-bd11-4a53-aaba-1573756a90e7",
   "metadata": {},
   "outputs": [],
   "source": [
    "def get_max(L):\n",
    "    maxi=L[0]\n",
    "    for x in L:\n",
    "        if x > maxi:\n",
    "            maxi=x\n",
    "    return maxi\n",
    "def get_min(L):\n",
    "    mini=L[0]\n",
    "    for x in L:\n",
    "        if x < mini:\n",
    "            mini = x\n",
    "    return mini\n",
    "def get_range(L):\n",
    "    maxi=get_max(L)\n",
    "    mini=get_min(L)\n",
    "    return maxi - mini"
   ]
  },
  {
   "cell_type": "code",
   "execution_count": 33,
   "id": "bb0eb355-6afe-477d-bf9a-17583f184ca8",
   "metadata": {},
   "outputs": [
    {
     "data": {
      "text/plain": [
       "88"
      ]
     },
     "execution_count": 33,
     "metadata": {},
     "output_type": "execute_result"
    }
   ],
   "source": [
    "get_range([2,5,77,8,90])"
   ]
  },
  {
   "cell_type": "markdown",
   "id": "7acc63ab-36b0-4af0-8eee-9fc3eef70c57",
   "metadata": {},
   "source": [
    "26. A simple algorithm has to be designed to find out whether a student \n",
    "belongs to the Data Science branch or not. The input will be a \n",
    "student's roll number, which is of the form BR18B0000. \n",
    "Here, BR represents the branch code, 18 represents the year of \n",
    "joining, B represents the education level and 0000 represents the \n",
    "specific identification given to the student of that batch. The branch \n",
    "code for Data Science is DS. Print True if the student belongs to \n",
    "Data Science branch and False otherwise."
   ]
  },
  {
   "cell_type": "code",
   "execution_count": 25,
   "id": "1a332ae7-d651-44ee-b8f0-bad87469c51b",
   "metadata": {},
   "outputs": [
    {
     "name": "stdin",
     "output_type": "stream",
     "text": [
      " DS1007\n"
     ]
    },
    {
     "name": "stdout",
     "output_type": "stream",
     "text": [
      "True\n"
     ]
    }
   ],
   "source": [
    "s= str(input())\n",
    "if s[0] != 'D' and s[1] != 'S':\n",
    "    print('False')\n",
    "else:\n",
    "    print('True')\n"
   ]
  },
  {
   "cell_type": "markdown",
   "id": "4fe1fa02-6f5e-4982-b72a-2b3ed900dba0",
   "metadata": {},
   "source": [
    "27.The police are trying to track a criminal based on the evidence \n",
    "available at a crime site. Their main clue is a vehicle's damaged \n",
    "number plate. Only the string TN07 is visible. The format of the \n",
    "registration number is AA00AA00, where the first two letters are \n",
    "alphabets, next two are numbers, next two are again alphabets \n",
    "followed by two numbers at the end. A number plate is picked from a \n",
    "database of registration numbers and is given to you as input. Your \n",
    "task is to determine if this could belong to the criminal or not. \n",
    "Print True if the number plate \n",
    "contains TN07 and False otherwise."
   ]
  },
  {
   "cell_type": "code",
   "execution_count": 26,
   "id": "8d82b441-66a4-47fe-a784-92f964dea038",
   "metadata": {},
   "outputs": [
    {
     "name": "stdin",
     "output_type": "stream",
     "text": [
      " AA00TN07\n"
     ]
    },
    {
     "name": "stdout",
     "output_type": "stream",
     "text": [
      "True\n"
     ]
    }
   ],
   "source": [
    "s=str(input())\n",
    "if s[-4:]=='TN07' or s[0:4]=='TN07':\n",
    "    print('True')\n",
    "else:\n",
    "    print('False')\n"
   ]
  },
  {
   "cell_type": "markdown",
   "id": "31695bae-e4d8-4947-993c-6b614d8212a8",
   "metadata": {},
   "source": [
    "28. You are given a string and two non-negative integers as input. The \n",
    "two integers specify the start and end indices of a substring in the \n",
    "given string. Create a new string by replicating the substring a \n",
    "minimum number of times so that the resulting string is longer than \n",
    "the input string. The input parameters are the string, start index of \n",
    "the substring and the end index of substring (endpoints inclusive) \n",
    "each on a different line."
   ]
  },
  {
   "cell_type": "code",
   "execution_count": 27,
   "id": "a78b137e-3204-4760-8a6f-45ac4592556c",
   "metadata": {},
   "outputs": [
    {
     "name": "stdin",
     "output_type": "stream",
     "text": [
      "Enter string : code\n",
      "enter start 2\n",
      "enter end 3\n"
     ]
    },
    {
     "name": "stdout",
     "output_type": "stream",
     "text": [
      "dedede\n"
     ]
    }
   ],
   "source": [
    "s=str(input('Enter string :'))\n",
    "a=int(input('enter start'))\n",
    "b=int(input('enter end'))\n",
    "x=s[a:b+1]\n",
    "y=len(s)\n",
    "ans=\"\"\n",
    "while(y>=len(ans)):\n",
    "    ans+=x\n",
    "print(ans)"
   ]
  },
  {
   "cell_type": "markdown",
   "id": "f19bb1a1-0833-4f14-bb12-dc35ecd08ac8",
   "metadata": {},
   "source": [
    "29. A class teacher has decided to split her entire class into four groups, namely Sapphire, Peridot, Ruby, \n",
    "and Emerald for sports competitions. For dividing the students into these four groups, she has \n",
    "followed the pattern given below:\n",
    "Sapphire - 1, 5, 9, 13, 17, 21, ...\n",
    "Peridot - 2, 6, 10, 14, 18, 22, ...\n",
    "Ruby - 3, 7, 11, 15, 19, 23, ...\n",
    "Emerald - 4, 8, 12, 16, 20, 24, ...\n",
    "All the students are represented by their roll numbers. Based on the above pattern, given the roll \n",
    "number as input, print the group the student belongs to. Note that the roll number can be any \n",
    "positive integer and not necessarily less than 25."
   ]
  },
  {
   "cell_type": "code",
   "execution_count": 35,
   "id": "3926ebb3-ebb0-4a9f-bf04-de25eeed8a19",
   "metadata": {},
   "outputs": [
    {
     "name": "stdin",
     "output_type": "stream",
     "text": [
      " 3\n"
     ]
    },
    {
     "name": "stdout",
     "output_type": "stream",
     "text": [
      "Ruby\n"
     ]
    }
   ],
   "source": [
    "n=int(input())\n",
    "for i in range(1,n+1,4):\n",
    "    if n==i:\n",
    "        print('Sapphire')\n",
    "for j in range(2,n+1,4):\n",
    "     if n==j:\n",
    "    \n",
    "        print('Peridot')\n",
    "for q in range(3,n+1,4):\n",
    "     if n==q:\n",
    "        print('Ruby')\n",
    "for l in range(4,n+1,4):\n",
    "     if l==i:\n",
    "        print('Emrald')\n"
   ]
  },
  {
   "cell_type": "markdown",
   "id": "2879c177-cc68-4a22-9d48-b5f20f5e73ee",
   "metadata": {},
   "source": [
    "30. A data science company wants to hire data scientists from abc college. \n",
    "The company follows a certain criteria for selection: for a student to \n",
    "be selected, the number of backlogs should be at most 5 and the \n",
    "CGPA (Cumulative Grade Point Average) should be greater than 6. If \n",
    "the student does not fit the above criteria, then the student is not \n",
    "offered the job. If the student is selected, then the salary offered is \n",
    "equal to 5 times his/her CGPA (in lakhs).\n",
    "Accept the number of backlogs (integer) and the CGPA (float) of the \n",
    "student as input. Your task is to determine if the student is selected or \n",
    "not. If the student is selected, then print the package. If not, then \n",
    "print the string Not Selected."
   ]
  },
  {
   "cell_type": "code",
   "execution_count": null,
   "id": "e9120b0c-4ca3-45af-aea6-da59d028922c",
   "metadata": {},
   "outputs": [],
   "source": [
    "a=float(input())\n",
    "b=float(input())\n"
   ]
  },
  {
   "cell_type": "markdown",
   "id": "d5124d9b-2467-4ad8-af1c-afb073727967",
   "metadata": {},
   "source": [
    "31. Accept a string as input and print PALINDROME if it is a \n",
    "palindrome, and NOT PALINDROME otherwise"
   ]
  },
  {
   "cell_type": "code",
   "execution_count": 36,
   "id": "22c57629-8313-4dd5-b4fc-537548d1c03a",
   "metadata": {},
   "outputs": [
    {
     "name": "stdin",
     "output_type": "stream",
     "text": [
      " mam\n"
     ]
    },
    {
     "name": "stdout",
     "output_type": "stream",
     "text": [
      "ITS PALINDROME\n"
     ]
    }
   ],
   "source": [
    "s=input()\n",
    "if s==s[::-1]:\n",
    "    print('ITS PALINDROME')\n",
    "else:\n",
    "    print('ITS NOT PALINDROME')\n"
   ]
  },
  {
   "cell_type": "markdown",
   "id": "5f512eeb-c449-4762-97ce-07d4b97c9703",
   "metadata": {},
   "source": [
    "32. In a portal login website, you are asked to write a function get_password_strength to decide \n",
    "the strength of a password. The strength is decided based on the total score of the password, Use \n",
    "following conditions:\n",
    "1) If password has length greater than 7 then score increases by one point.\n",
    "2) If password has at least one upper case and one lower case alphabets score increases by one point.\n",
    "3) If password has at least one number and no consecutive numbers like 12 or 234 then score \n",
    "increases by one point.\n",
    "4) If password has at least one special character (any character other than numbers and alphabets) then \n",
    "score increases by one point.\n",
    "5) If password contains username, then it is invalid password.\n",
    "If the password has score of four points, three points, two points, or one point then print Very \n",
    "Strong, Strong, Moderate, or Weak respectively. If the password is invalid, then \n",
    "print PASSWORD SHOULD NOT CONTAIN USERNAME and If the score is zero, then print Use a \n",
    "different password.The arguments to the function are username and password which are \n",
    "already defined"
   ]
  },
  {
   "cell_type": "code",
   "execution_count": 13,
   "id": "cebd1c2f-139e-4fe7-a9f8-cbc7a009e364",
   "metadata": {},
   "outputs": [],
   "source": [
    "def get_password_strength(username,password):\n",
    "    c=0\n",
    "    capital='ABCDEFGHIJKLMNOPQRSTUVWXYZ'\n",
    "    c_flag=False\n",
    "    small='abcdefghijklmnopqrstuvwxyz'\n",
    "    s_flag=False\n",
    "    num='0123456789'\n",
    "    n_flag=False\n",
    "    nc_flag=True\n",
    "    if username in password:\n",
    "        print('Password should not contain username')\n",
    "        return\n",
    "    if len(password)>7:\n",
    "        c=c+1\n",
    "    for i in range(len(password)):\n",
    "        if password[i] in small:\n",
    "            s_flag=True\n",
    "        elif password[i] in capital:\n",
    "            c_flag=True\n",
    "        elif password[i] in num:\n",
    "            n_flag=True\n",
    "        if n_flag:\n",
    "            if i!=(len(password)-1):\n",
    "                if num[((num.index(password[i]))+1)] ==password[i+1]:\n",
    "                        nc_flag=False\n",
    "        if c_flag and s_flag:\n",
    "            c+=1\n",
    "                        \n",
    "        if n_flag and nc_flag:\n",
    "            c+=1\n",
    "                        \n",
    "        if not password.isalnum():\n",
    "            c+=1\n",
    "        if c==4:\n",
    "            \n",
    "                        print('Verystrong')\n",
    "                        return\n",
    "        if c==3:\n",
    "            \n",
    "                        print('Strong')\n",
    "                        return\n",
    "        if c==2:\n",
    "                        print('Moderate')\n",
    "                        return\n",
    "        if c==1:\n",
    "                        print('Weak')\n",
    "                        return\n",
    "            \n",
    "        if c==0:\n",
    "                        print('Use a different Password')\n",
    "                        return                     \n",
    "                        \n",
    "    \n"
   ]
  },
  {
   "cell_type": "code",
   "execution_count": 19,
   "id": "80ab84f0-6573-4a32-9f20-e9e30c2bb323",
   "metadata": {},
   "outputs": [
    {
     "name": "stdout",
     "output_type": "stream",
     "text": [
      "Strong\n"
     ]
    }
   ],
   "source": [
    "get_password_strength('anusha','147@nc6A')"
   ]
  },
  {
   "cell_type": "markdown",
   "id": "6cd4b6ad-0abb-47f2-bd2b-7fe4e9076a81",
   "metadata": {},
   "source": [
    "33.decorator that logs the date and time"
   ]
  },
  {
   "cell_type": "code",
   "execution_count": 4,
   "id": "2690b113-38c4-42f0-b313-72a377b3f483",
   "metadata": {},
   "outputs": [],
   "source": [
    "from datetime import datetime\n",
    "\n",
    "def log_datetime(func):\n",
    "    \n",
    "    def wrapper():\n",
    "        print(f'function:{func.__name__} \\nRun on {datetime.today().strftime(\"%Y-%m-%d %H:%M:%S\")}')\n",
    "        print(f'{\"-\"*30}')\n",
    "        func()\n",
    "    return wrapper\n",
    "              \n",
    "@log_datetime\n",
    "def daily_backup():\n",
    "              print(\"Daily backup job has finished\")"
   ]
  },
  {
   "cell_type": "code",
   "execution_count": 5,
   "id": "4164af4b-baa6-4532-91fe-17c240e853f7",
   "metadata": {},
   "outputs": [
    {
     "name": "stdout",
     "output_type": "stream",
     "text": [
      "function:daily_backup \n",
      "Run on 2022-11-26 10:06:35\n",
      "------------------------------\n",
      "Daily backup job has finished\n"
     ]
    }
   ],
   "source": [
    "daily_backup()"
   ]
  },
  {
   "cell_type": "markdown",
   "id": "463d6e43-3776-4234-a71c-56594d242145",
   "metadata": {},
   "source": [
    "34.Program to Get Data Items From a List Appearing Odd Number of Times"
   ]
  },
  {
   "cell_type": "code",
   "execution_count": 7,
   "id": "e338f4d8-e3e2-4cb7-b671-303b876a98d9",
   "metadata": {},
   "outputs": [
    {
     "name": "stdin",
     "output_type": "stream",
     "text": [
      " 2\n",
      "Input: 1\n",
      "Input: 3\n"
     ]
    },
    {
     "name": "stdout",
     "output_type": "stream",
     "text": [
      "[1, 3]\n"
     ]
    }
   ],
   "source": [
    "l=list()\n",
    "n=int(input())\n",
    "odd_list=list()\n",
    "for i in range(n):\n",
    "    temp=int(input('Input:'))\n",
    "    l.append(temp)\n",
    "for i in l:\n",
    "    if l.count(i)%2!=0:\n",
    "        if i not in odd_list:\n",
    "            odd_list.append(i)\n",
    "print(odd_list)\n",
    "            \n",
    "    \n",
    "             \n"
   ]
  },
  {
   "cell_type": "code",
   "execution_count": 12,
   "id": "5671a983-367b-470f-81c5-c079788b2873",
   "metadata": {},
   "outputs": [],
   "source": [
    "def hello():\n",
    "    return 'hello world'"
   ]
  },
  {
   "cell_type": "code",
   "execution_count": 13,
   "id": "ec04afba-1265-46e0-9ed7-ac62b2b5496e",
   "metadata": {},
   "outputs": [
    {
     "data": {
      "text/plain": [
       "'hello world'"
      ]
     },
     "execution_count": 13,
     "metadata": {},
     "output_type": "execute_result"
    }
   ],
   "source": [
    "hello()"
   ]
  },
  {
   "cell_type": "code",
   "execution_count": 25,
   "id": "bc04abe2-7214-454a-a095-25e8a89b110a",
   "metadata": {},
   "outputs": [],
   "source": [
    "def lowercase_dec(function):\n",
    "    def wrapper():\n",
    "        func=function()\n",
    "        string_lowercase=func.lower()\n",
    "        return string_lowercase\n",
    "    return wrapper\n",
    "def splitter_dec(function):\n",
    "    def wrapper():\n",
    "        func=function()\n",
    "        string_split=func.split()\n",
    "        return string_split\n",
    "    return wrapper\n",
    "    \n",
    "    "
   ]
  },
  {
   "cell_type": "code",
   "execution_count": 26,
   "id": "5448d6e6-7cd1-41ee-ac9a-e7feffe9e098",
   "metadata": {},
   "outputs": [],
   "source": [
    "@splitter_dec\n",
    "@lowercase_dec\n",
    "def hello():\n",
    "    return 'hello world'"
   ]
  },
  {
   "cell_type": "code",
   "execution_count": 27,
   "id": "5b8b4ee1-10bc-4ec2-b60f-9cbd686d1e10",
   "metadata": {},
   "outputs": [
    {
     "data": {
      "text/plain": [
       "['hello', 'world']"
      ]
     },
     "execution_count": 27,
     "metadata": {},
     "output_type": "execute_result"
    }
   ],
   "source": [
    "hello()"
   ]
  },
  {
   "cell_type": "markdown",
   "id": "5a7a5e8b-aebd-4d9e-800f-bcce5c5fbc64",
   "metadata": {},
   "source": [
    "36. remove items from a list while iterating but without creating a different copy of a list.\n",
    "Remove numbers greater than 50\n",
    "number_list = [10, 20, 30, 40, 50, 60, 70, 80, 90, 100]\n",
    "Expected Output: [10, 20, 30, 40, 50]"
   ]
  },
  {
   "cell_type": "code",
   "execution_count": 24,
   "id": "7bcf6ec6-4fa8-48cb-a5d1-601c8157cfc5",
   "metadata": {},
   "outputs": [
    {
     "name": "stdout",
     "output_type": "stream",
     "text": [
      "[10, 20, 30, 40, 50]\n"
     ]
    }
   ],
   "source": [
    "number_list = [10, 20, 30, 40, 50, 60, 70, 80, 90, 100]\n",
    "number_list=[x for x in number_list if x <= 50]\n",
    "print(number_list)"
   ]
  },
  {
   "cell_type": "markdown",
   "id": "bdd09f24-908f-4f86-859f-fbb5c9058ae1",
   "metadata": {},
   "source": [
    "37.  Display all duplicate items from a list\n",
    "sample_list = [10, 20, 60, 30, 20, 40, 30, 60, 70, 80]\n",
    "Expected Output: [20, 60, 30]"
   ]
  },
  {
   "cell_type": "code",
   "execution_count": 31,
   "id": "30a4975a-cfd5-4ffc-923f-e09215af274d",
   "metadata": {},
   "outputs": [
    {
     "name": "stdout",
     "output_type": "stream",
     "text": [
      "{20, 60, 30}\n"
     ]
    }
   ],
   "source": [
    "sample_list = [10, 20, 60, 30, 20, 40, 30, 60, 70, 80]\n",
    "l=list()\n",
    "for i in sample_list:\n",
    "    if sample_list.count(i) > 1:\n",
    "        \n",
    "        l.append(i)\n",
    "print(set(l))    \n",
    "        \n",
    "        "
   ]
  },
  {
   "cell_type": "code",
   "execution_count": 35,
   "id": "aa950377-1d8f-4d56-b438-d601f8e4d5e4",
   "metadata": {},
   "outputs": [
    {
     "name": "stdout",
     "output_type": "stream",
     "text": [
      "[20, 60, 30]\n"
     ]
    }
   ],
   "source": [
    "import collections\n",
    "sample_list = [10, 20, 60, 30, 20, 40, 30, 60, 70, 80]\n",
    "\n",
    "duplicates=[]\n",
    "\n",
    "for item,count in collections.Counter(sample_list).items():\n",
    "    if count>1:\n",
    "        duplicates.append(item)\n",
    "print(duplicates)\n"
   ]
  },
  {
   "cell_type": "markdown",
   "id": "3d3e68c8-2cd0-4e81-bd4e-8bcebee4b922",
   "metadata": {},
   "source": [
    "38. Create an outer function that will accept two strings, x and y. (x= 'Emma' and y = 'Kelly'.\n",
    "Create an inner function inside an outer function that will concatenate x and y.\n",
    "At last, an outer function will join the word 'developer' to it."
   ]
  },
  {
   "cell_type": "code",
   "execution_count": 40,
   "id": "2748b034-756a-486d-9613-965db0370703",
   "metadata": {},
   "outputs": [],
   "source": [
    "def test(a,b):\n",
    "    def test1(a,b):\n",
    "        c=a+b\n",
    "        return c\n",
    "    return test1(a,b)+' developer'\n",
    "    "
   ]
  },
  {
   "cell_type": "code",
   "execution_count": 41,
   "id": "5766c074-aee0-43a3-a70d-56050893dc96",
   "metadata": {},
   "outputs": [
    {
     "name": "stdout",
     "output_type": "stream",
     "text": [
      "Anushapuvvala developer\n"
     ]
    }
   ],
   "source": [
    "r=test('Anusha','puvvala')\n",
    "print(r)"
   ]
  },
  {
   "cell_type": "markdown",
   "id": "ae44921b-1078-4750-96d2-fa8c13e20b1a",
   "metadata": {},
   "source": [
    "39. Modify the element of a nested list inside the following list\n",
    "Change the element 35 to 3500\n",
    "list1 = [5, [10, 15, [20, 25, [30, 35], 40], 45], 50]"
   ]
  },
  {
   "cell_type": "code",
   "execution_count": 42,
   "id": "b25a7c3e-be2a-4577-aca8-0e105ec841f2",
   "metadata": {},
   "outputs": [
    {
     "name": "stdout",
     "output_type": "stream",
     "text": [
      "[5, [10, 15, [20, 25, [30, 3500], 40], 45], 50]\n"
     ]
    }
   ],
   "source": [
    "list1 = [5, [10, 15, [20, 25, [30, 35], 40], 45], 50]\n",
    "list1[1][2][2][1]=3500\n",
    "\n",
    "print(list1)"
   ]
  },
  {
   "cell_type": "markdown",
   "id": "1a1a1ada-e7eb-4adf-855b-db4c61567bb5",
   "metadata": {},
   "source": [
    "40.  Access the nested key increment from the following dictionary\n",
    "Access 12\n",
    "emp_dict = {\n",
    "    \"company\": {\n",
    "        \"employee\": {\n",
    "            \"name\": \"Jess\",\n",
    "            \"payable\": {\n",
    "                \"salary\": 9000,\n",
    "                \"increment\": 12\n",
    "            }\n",
    "        }\n",
    "    }\n",
    "}\n"
   ]
  },
  {
   "cell_type": "code",
   "execution_count": 43,
   "id": "96cc3439-37ce-47ce-adf0-b9cac78e2bbf",
   "metadata": {},
   "outputs": [
    {
     "data": {
      "text/plain": [
       "12"
      ]
     },
     "execution_count": 43,
     "metadata": {},
     "output_type": "execute_result"
    }
   ],
   "source": [
    "emp_dict = {\n",
    "    \"company\": {\n",
    "        \"employee\": {\n",
    "            \"name\": \"Jess\",\n",
    "            \"payable\": {\n",
    "                \"salary\": 9000,\n",
    "                \"increment\": 12\n",
    "            }\n",
    "        }\n",
    "    }\n",
    "}\n",
    "emp_dict[\"company\"][\"employee\"][\"payable\"][\"increment\"]"
   ]
  },
  {
   "cell_type": "markdown",
   "id": "7e505525-d4b5-424a-a732-11002a1348f0",
   "metadata": {},
   "source": [
    "41. Print the sum of the current number and the previous number\n",
    "Write a program to iterate the first 10 numbers and in each iteration, print the sum of the current and previous number.\n",
    "Printing current and previous number sum in a range(10)\n",
    "Current Number 0 Previous Number  0  Sum:  0\n",
    "Current Number 1 Previous Number  0  Sum:  1\n",
    "Current Number 2 Previous Number  1  Sum:  3\n",
    "Current Number 3 Previous Number  2  Sum:  5\n",
    "Current Number 4 Previous Number  3  Sum:  7\n",
    "Current Number 5 Previous Number  4  Sum:  9\n",
    "Current Number 6 Previous Number  5  Sum:  11\n",
    "Current Number 7 Previous Number  6  Sum:  13\n",
    "Current Number 8 Previous Number  7  Sum:  15\n",
    "Current Number 9 Previous Number  8  Sum:  17"
   ]
  },
  {
   "cell_type": "code",
   "execution_count": 45,
   "id": "ce145dcb-d7d6-40a9-a08f-e5ce950fbc11",
   "metadata": {},
   "outputs": [
    {
     "name": "stdout",
     "output_type": "stream",
     "text": [
      "Current Number 0 Previous Number 0 Sum: 0\n",
      "Current Number 1 Previous Number 1 Sum: 1\n",
      "Current Number 2 Previous Number 2 Sum: 3\n",
      "Current Number 3 Previous Number 3 Sum: 5\n",
      "Current Number 4 Previous Number 4 Sum: 7\n",
      "Current Number 5 Previous Number 5 Sum: 9\n",
      "Current Number 6 Previous Number 6 Sum: 11\n",
      "Current Number 7 Previous Number 7 Sum: 13\n",
      "Current Number 8 Previous Number 8 Sum: 15\n",
      "Current Number 9 Previous Number 9 Sum: 17\n"
     ]
    }
   ],
   "source": [
    "sum=0\n",
    "pre=0\n",
    "for i in range(0,10):\n",
    "    sum=pre+i\n",
    "    pre=i\n",
    "    print(f'Current Number {i} Previous Number {pre} Sum: {sum}')"
   ]
  },
  {
   "cell_type": "markdown",
   "id": "0d5aea8e-a414-446e-acd2-b42858d63ef1",
   "metadata": {},
   "source": [
    "42. Print characters from a string that are present at an even index number\n",
    "Write a program to accept a string from the user and display characters that are present at an even index number.\n",
    "\n",
    "For example, str = \"ineuron\" so you should display ‘i’, ‘e’, ‘r’, ‘n’."
   ]
  },
  {
   "cell_type": "code",
   "execution_count": 52,
   "id": "b8ef87f4-b12b-483e-bf23-6f25e538067d",
   "metadata": {},
   "outputs": [
    {
     "name": "stdin",
     "output_type": "stream",
     "text": [
      " anusha\n"
     ]
    },
    {
     "name": "stdout",
     "output_type": "stream",
     "text": [
      "auh"
     ]
    }
   ],
   "source": [
    "s=input()\n",
    "for i in range(len(s)):\n",
    "    if i%2==0:\n",
    "        print(s[i],end=\"\")\n",
    "    "
   ]
  },
  {
   "cell_type": "code",
   "execution_count": null,
   "id": "e886f79a-2051-4e8c-ba37-616722d2daf9",
   "metadata": {},
   "outputs": [],
   "source": [
    "44."
   ]
  },
  {
   "cell_type": "code",
   "execution_count": 54,
   "id": "68fc0f24-b45b-4fb9-bc1e-c33618829197",
   "metadata": {},
   "outputs": [
    {
     "name": "stdout",
     "output_type": "stream",
     "text": [
      "1 2 3 4 5 6 7 8 9 10 \n",
      "\n",
      "2 4 6 8 10 12 14 16 18 20 \n",
      "\n",
      "3 6 9 12 15 18 21 24 27 30 \n",
      "\n",
      "4 8 12 16 20 24 28 32 36 40 \n",
      "\n",
      "5 10 15 20 25 30 35 40 45 50 \n",
      "\n",
      "6 12 18 24 30 36 42 48 54 60 \n",
      "\n",
      "7 14 21 28 35 42 49 56 63 70 \n",
      "\n",
      "8 16 24 32 40 48 56 64 72 80 \n",
      "\n",
      "9 18 27 36 45 54 63 72 81 90 \n",
      "\n",
      "10 20 30 40 50 60 70 80 90 100 \n",
      "\n"
     ]
    }
   ],
   "source": [
    "for i in range(1,11):\n",
    "    for j in range(1,11):\n",
    "        c=i*j\n",
    "        print(f'{c}',end=\" \")\n",
    "    print(\"\\n\")\n"
   ]
  },
  {
   "cell_type": "markdown",
   "id": "26e2d42d-103a-4f23-90b4-2d6615fb9620",
   "metadata": {},
   "source": [
    "44. Remove duplicates from a list and create a tuple and find the minimum and maximum number\n",
    "sample_list = [87, 45, 41, 65, 94, 41, 99, 94]\n",
    "Expected Outcome:\n",
    "unique items [87, 45, 41, 65, 99]\n",
    "tuple (87, 45, 41, 65, 99)\n",
    "min: 41\n",
    "max: 99"
   ]
  },
  {
   "cell_type": "code",
   "execution_count": 85,
   "id": "d20eda6e-d35e-462e-b3c0-7a606015d0cd",
   "metadata": {},
   "outputs": [
    {
     "name": "stdout",
     "output_type": "stream",
     "text": [
      "[87, 45, 65, 99]\n",
      "(87, 45, 65, 99)\n",
      "41\n",
      "99\n"
     ]
    }
   ],
   "source": [
    "sample_list = [87, 45, 41, 65, 94, 41, 99, 94]\n",
    "unique_num=[]\n",
    "m=min(sample_list)\n",
    "n=max(sample_list)\n",
    "for item,count in collections.Counter(sample_list).items():\n",
    "    if count==1:\n",
    "        unique_num.append(item)\n",
    "print(unique_num)\n",
    "print(tuple(unique_num))\n",
    "print(m)\n",
    "print(n)\n",
    "\n",
    "\n",
    "\n"
   ]
  },
  {
   "cell_type": "markdown",
   "id": "c5c83119-1cee-4c5d-83e3-1f9a76b1e2f2",
   "metadata": {},
   "source": [
    "45. Write a Python program to create a lambda function that adds 15 to a given number passed in as an argument,\n",
    "also create a lambda function\n",
    "that multiplies argument x with argument y and print the result."
   ]
  },
  {
   "cell_type": "code",
   "execution_count": 66,
   "id": "1f92e02f-b6c7-4057-985d-8befbb48630d",
   "metadata": {},
   "outputs": [
    {
     "name": "stdout",
     "output_type": "stream",
     "text": [
      "Addition 17\n",
      "mul 6\n"
     ]
    }
   ],
   "source": [
    "add=lambda x:x+15\n",
    "print('Addition',add(2))\n",
    "mul=lambda x,y:x*y\n",
    "print('mul',mul(2,3))"
   ]
  },
  {
   "cell_type": "markdown",
   "id": "966db9ae-de2c-48e9-8861-3648bdc843c8",
   "metadata": {},
   "source": [
    "46. Write a Python program to sort a list of tuples using Lambda."
   ]
  },
  {
   "cell_type": "code",
   "execution_count": 67,
   "id": "e2e7177a-27c2-41a4-afcb-1bb700c81144",
   "metadata": {},
   "outputs": [
    {
     "data": {
      "text/plain": [
       "[(2, 'k'), (3, 'j'), (44, 'g')]"
      ]
     },
     "execution_count": 67,
     "metadata": {},
     "output_type": "execute_result"
    }
   ],
   "source": [
    "sortlist=lambda x:sorted(x)\n",
    "l=[(3,'j'),(44,'g'),(2,'k')]\n",
    "sortlist(l)"
   ]
  },
  {
   "cell_type": "markdown",
   "id": "17110f23-82f1-45e7-954e-12643a171c31",
   "metadata": {},
   "source": [
    "47. Write a Python program to extract year, month, date and time using Lambda."
   ]
  },
  {
   "cell_type": "code",
   "execution_count": 70,
   "id": "f036878b-375e-426d-9e05-d2e8cd95a12e",
   "metadata": {},
   "outputs": [
    {
     "name": "stdout",
     "output_type": "stream",
     "text": [
      "2022-11-26 11:53:38.554839\n",
      "2022\n",
      "11\n",
      "26\n",
      "11:53:38.554839\n"
     ]
    }
   ],
   "source": [
    "import datetime\n",
    "now=datetime.datetime.now()\n",
    "print(now)\n",
    "year=lambda x:x.year\n",
    "month=lambda x:x.month\n",
    "day=lambda x:x.day\n",
    "t=lambda x:x.time()\n",
    "print(year(now))\n",
    "print(month(now))\n",
    "print(day(now))\n",
    "print(t(now))\n"
   ]
  },
  {
   "cell_type": "code",
   "execution_count": 69,
   "id": "0e378622-4c6f-4858-8acc-81dfa00c44d7",
   "metadata": {},
   "outputs": [
    {
     "name": "stdout",
     "output_type": "stream",
     "text": [
      "-23\n"
     ]
    }
   ],
   "source": [
    "sol=lambda a,b,c:b**2-(4*a*c)\n",
    "print(sol(2,3,4))"
   ]
  },
  {
   "cell_type": "markdown",
   "id": "cead42a7-d905-4b30-912f-b80997f2c1de",
   "metadata": {},
   "source": [
    "48. Write a Python program to count the even, odd numbers in a given array of integers using Lambda."
   ]
  },
  {
   "cell_type": "code",
   "execution_count": 74,
   "id": "0f0d898c-ae90-46c6-a1ab-8b9482722580",
   "metadata": {},
   "outputs": [
    {
     "name": "stdout",
     "output_type": "stream",
     "text": [
      "no of even no: 3\n",
      "no of odd no: 5\n"
     ]
    }
   ],
   "source": [
    "l=[1,3,4,5,6,7,8,9]\n",
    "even=len(list(filter(lambda x:x%2==0,l)))\n",
    "odd=len(list(filter(lambda x:x%2!=0,l)))\n",
    "print('no of even no:',even)\n",
    "print('no of odd no:',odd)"
   ]
  },
  {
   "cell_type": "markdown",
   "id": "5ec4d872-2cde-45c8-9994-23eb142f2b88",
   "metadata": {},
   "source": [
    "49. Write a Python program to convert all the characters in uppercase and lowercase and eliminate duplicate letters from a given sequence.\n",
    "Use map() function."
   ]
  },
  {
   "cell_type": "code",
   "execution_count": null,
   "id": "7ec3800b-05d6-4b69-9067-2dd05886fab0",
   "metadata": {},
   "outputs": [],
   "source": [
    "def "
   ]
  },
  {
   "cell_type": "markdown",
   "id": "f230581b-07b9-4dbd-8727-6f98a4d1efe3",
   "metadata": {},
   "source": [
    "50.  Write a Python program to square the elements of a list using map() function."
   ]
  },
  {
   "cell_type": "code",
   "execution_count": 78,
   "id": "47fbf71a-6b99-48e8-84fa-8bea6d24f300",
   "metadata": {},
   "outputs": [
    {
     "name": "stdout",
     "output_type": "stream",
     "text": [
      "[1, 4, 9, 16]\n"
     ]
    }
   ],
   "source": [
    "l=(1,2,3,4)\n",
    "sq=map((lambda x:x**2),l)\n",
    "print(list(sq))"
   ]
  },
  {
   "cell_type": "code",
   "execution_count": 79,
   "id": "22990cb5-e4b9-4081-a7ea-1f314436d1c3",
   "metadata": {},
   "outputs": [],
   "source": [
    "def test(s):\n",
    "    return str(s).upper(),str(s).lower()\n",
    "chars=['a','g','r','d']\n",
    "re=map(test,chars)"
   ]
  },
  {
   "cell_type": "code",
   "execution_count": 81,
   "id": "cbeee1da-fa0c-4bbc-ad47-b11a263cc0aa",
   "metadata": {},
   "outputs": [
    {
     "name": "stdout",
     "output_type": "stream",
     "text": [
      "[('A', 'a'), ('G', 'g'), ('R', 'r'), ('D', 'd')]\n"
     ]
    }
   ],
   "source": [
    "print(list(re))"
   ]
  },
  {
   "cell_type": "code",
   "execution_count": null,
   "id": "a34702dc-981f-40ba-b164-cefa9135eb93",
   "metadata": {},
   "outputs": [],
   "source": []
  }
 ],
 "metadata": {
  "kernelspec": {
   "display_name": "Python 3 (ipykernel)",
   "language": "python",
   "name": "python3"
  },
  "language_info": {
   "codemirror_mode": {
    "name": "ipython",
    "version": 3
   },
   "file_extension": ".py",
   "mimetype": "text/x-python",
   "name": "python",
   "nbconvert_exporter": "python",
   "pygments_lexer": "ipython3",
   "version": "3.10.6"
  }
 },
 "nbformat": 4,
 "nbformat_minor": 5
}
