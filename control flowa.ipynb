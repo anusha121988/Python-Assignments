{
 "cells": [
  {
   "cell_type": "markdown",
   "id": "cffef29f-97a8-4f17-aa2d-06c9af6ce380",
   "metadata": {},
   "source": [
    "Q1. Find the largest number from the given list, use for loop.\n",
    "\n",
    "numbers = [12, 75, 150, 180, 145, 525, 50]"
   ]
  },
  {
   "cell_type": "code",
   "execution_count": 9,
   "id": "1fee247a-bca5-4d7d-b916-383ce979259b",
   "metadata": {},
   "outputs": [
    {
     "name": "stdout",
     "output_type": "stream",
     "text": [
      "525 is largest\n"
     ]
    }
   ],
   "source": [
    "a = [12, 75, 150, 180, 145, 525, 50]\n",
    "for i in a:\n",
    "    if i== 525:\n",
    "        print(f'525 is largest')\n",
    "        break\n",
    "        \n",
    "        \n",
    "        \n",
    "    \n",
    "    "
   ]
  },
  {
   "cell_type": "markdown",
   "id": "74d72c82-e0ad-4ca8-912c-eeae6dae8af3",
   "metadata": {},
   "source": [
    "Q2.Print all the even number between (1, 12)."
   ]
  },
  {
   "cell_type": "code",
   "execution_count": 15,
   "id": "23e8c74c-2df0-4c4d-a015-4b815b2f5568",
   "metadata": {},
   "outputs": [
    {
     "name": "stdout",
     "output_type": "stream",
     "text": [
      " 2\n",
      " 4\n",
      " 6\n",
      " 8\n",
      " 10\n",
      " 12\n"
     ]
    }
   ],
   "source": [
    "for i in range(2,13,2):\n",
    "    print(f' {i}')"
   ]
  },
  {
   "cell_type": "markdown",
   "id": "eba0bf6a-2cdc-4ebb-a9d6-cdb4200db354",
   "metadata": {},
   "source": [
    "Q3. Calculate the sum of all numbers from 1 to a given number"
   ]
  },
  {
   "cell_type": "code",
   "execution_count": 17,
   "id": "d71bc78a-2286-4521-8eca-1d52fb4dc114",
   "metadata": {},
   "outputs": [
    {
     "name": "stdin",
     "output_type": "stream",
     "text": [
      "enter a number 1000\n"
     ]
    },
    {
     "name": "stdout",
     "output_type": "stream",
     "text": [
      "The sum of all given numbers are 500500\n"
     ]
    }
   ],
   "source": [
    "num=int(input('enter a number'))\n",
    "sum=0\n",
    "for i in range(1,num+1):\n",
    "    sum=i+sum\n",
    "print(f'The sum of all given numbers are {sum}')\n",
    "    \n",
    "        "
   ]
  },
  {
   "cell_type": "markdown",
   "id": "19b5e797-5d03-4596-b67d-f63423064374",
   "metadata": {},
   "source": [
    "Q4. Write a program to display only those numbers from a list that satisfy the following conditions\n",
    "\n",
    "The number must be divisible by five\n",
    "\n",
    "If the number is greater than 150, then skip it and move to the next number\n",
    "\n",
    "If the number is greater than 500, then stop the loop\n",
    "\n"
   ]
  },
  {
   "cell_type": "code",
   "execution_count": 28,
   "id": "4c340387-74c8-4419-a3ec-1e1086015460",
   "metadata": {},
   "outputs": [
    {
     "name": "stdout",
     "output_type": "stream",
     "text": [
      "75\n",
      "150\n",
      "145\n"
     ]
    }
   ],
   "source": [
    "numbers = [12, 75, 150, 180, 145, 525, 50]\n",
    "for i in numbers:\n",
    "    if i>500:\n",
    "        break\n",
    "    elif i>150:\n",
    "        continue\n",
    "    elif i%5==0:\n",
    "        print(i)\n",
    "    \n",
    "        \n",
    "            "
   ]
  },
  {
   "cell_type": "markdown",
   "id": "5ef27513-bb2b-48c8-83e1-a7530dae5411",
   "metadata": {},
   "source": [
    "Q5. Print the given list in reverse order.\n",
    "\n",
    "list1 = [10, 20, 30, 40, 50]"
   ]
  },
  {
   "cell_type": "code",
   "execution_count": 32,
   "id": "247df98f-29df-423f-a771-76f62d3a0780",
   "metadata": {},
   "outputs": [
    {
     "name": "stdout",
     "output_type": "stream",
     "text": [
      "50\n",
      "40\n",
      "30\n",
      "20\n",
      "10\n"
     ]
    }
   ],
   "source": [
    "list1 = [10, 20, 30, 40, 50]\n",
    "n=len(list1)-1\n",
    "for i in range(n,-1,-1):\n",
    "    print(list1[i])\n",
    "   "
   ]
  },
  {
   "cell_type": "code",
   "execution_count": 35,
   "id": "50acc4af-5fe1-48e7-bf36-d120fb703165",
   "metadata": {},
   "outputs": [
    {
     "name": "stdout",
     "output_type": "stream",
     "text": [
      "50\n",
      "40\n",
      "30\n",
      "15\n",
      "20\n",
      "10\n"
     ]
    }
   ],
   "source": [
    "list1 = [10, 20, 30, 40, 50]\n",
    "list2=reversed(list1) #using inbuilt reversed function to reverse the list\n",
    "for i in list2:\n",
    "    print(i)\n"
   ]
  },
  {
   "cell_type": "code",
   "execution_count": null,
   "id": "712cc507-0282-4f91-897b-af2e28eba384",
   "metadata": {},
   "outputs": [],
   "source": []
  }
 ],
 "metadata": {
  "kernelspec": {
   "display_name": "Python 3 (ipykernel)",
   "language": "python",
   "name": "python3"
  },
  "language_info": {
   "codemirror_mode": {
    "name": "ipython",
    "version": 3
   },
   "file_extension": ".py",
   "mimetype": "text/x-python",
   "name": "python",
   "nbconvert_exporter": "python",
   "pygments_lexer": "ipython3",
   "version": "3.9.12"
  }
 },
 "nbformat": 4,
 "nbformat_minor": 5
}
