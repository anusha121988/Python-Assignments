{
 "cells": [
  {
   "cell_type": "markdown",
   "id": "0d28d6af-8d6e-4e1b-8f8b-491208a477a1",
   "metadata": {},
   "source": [
    "1. What exactly is []?"
   ]
  },
  {
   "cell_type": "markdown",
   "id": "20b4fa30-63c5-40cd-b8c2-ababb082df8b",
   "metadata": {},
   "source": [
    "12he empty list value, which is a list value that contains no items."
   ]
  },
  {
   "cell_type": "markdown",
   "id": "f2d43de5-0bd5-4cb0-844c-0e9dce830645",
   "metadata": {},
   "source": [
    "2. In a list of values stored in a variable called spam, how would you assign the value &#39;hello&#39; as the\n",
    "third value? (Assume [2, 4, 6, 8, 10] are in spam.)"
   ]
  },
  {
   "cell_type": "code",
   "execution_count": 2,
   "id": "d90e2e5b-a6e4-4a83-a1a8-00aee12aab5f",
   "metadata": {},
   "outputs": [
    {
     "data": {
      "text/plain": [
       "['hello', 4, 6, 8, 10]"
      ]
     },
     "execution_count": 2,
     "metadata": {},
     "output_type": "execute_result"
    }
   ],
   "source": [
    "spam=[2,4,6,8,10]\n",
    "spam[0]='hello'\n",
    "spam"
   ]
  },
  {
   "cell_type": "markdown",
   "id": "850dd429-2066-4c65-af89-2f9bcc9ea8ac",
   "metadata": {},
   "source": [
    "Let&#39;s pretend the spam includes the list [&#39;a&#39;, &#39;b&#39;, &#39;c&#39;, &#39;d&#39;] for the next three queries."
   ]
  },
  {
   "cell_type": "markdown",
   "id": "ef24d3d2-7917-438a-81e1-8c956f464ed8",
   "metadata": {},
   "source": [
    "3.What is the value of spam[int(int(3 * 2) / 11)]?"
   ]
  },
  {
   "cell_type": "code",
   "execution_count": 3,
   "id": "712ad20a-e30d-468b-8933-8341dcd7be37",
   "metadata": {},
   "outputs": [
    {
     "data": {
      "text/plain": [
       "'a'"
      ]
     },
     "execution_count": 3,
     "metadata": {},
     "output_type": "execute_result"
    }
   ],
   "source": [
    "spam= ['a', 'b', 'c', 'd'] \n",
    "spam[int(int(3*2)/11)]"
   ]
  },
  {
   "cell_type": "code",
   "execution_count": 4,
   "id": "33e84830-5982-423a-9827-d5cef73a8194",
   "metadata": {},
   "outputs": [
    {
     "data": {
      "text/plain": [
       "'d'"
      ]
     },
     "execution_count": 4,
     "metadata": {},
     "output_type": "execute_result"
    }
   ],
   "source": [
    "spam[int(int('3'*2)/11)]"
   ]
  },
  {
   "cell_type": "markdown",
   "id": "99a68e50-627d-4403-8b65-fb27c9fac71b",
   "metadata": {},
   "source": [
    "4. What is the value of spam[-1]?"
   ]
  },
  {
   "cell_type": "code",
   "execution_count": 5,
   "id": "716064ae-9800-4aad-98a4-6649a3c2ee57",
   "metadata": {},
   "outputs": [
    {
     "data": {
      "text/plain": [
       "'d'"
      ]
     },
     "execution_count": 5,
     "metadata": {},
     "output_type": "execute_result"
    }
   ],
   "source": [
    "spam[-1]"
   ]
  },
  {
   "cell_type": "markdown",
   "id": "73a55c59-aa38-4dd6-9124-7ae6f0d42b17",
   "metadata": {},
   "source": [
    "5. What is the value of spam[:2]?"
   ]
  },
  {
   "cell_type": "code",
   "execution_count": 7,
   "id": "eb262274-1a3f-4d40-961a-b9994edeb898",
   "metadata": {},
   "outputs": [
    {
     "data": {
      "text/plain": [
       "['a', 'b']"
      ]
     },
     "execution_count": 7,
     "metadata": {},
     "output_type": "execute_result"
    }
   ],
   "source": [
    "spam[:2]"
   ]
  },
  {
   "cell_type": "markdown",
   "id": "1b43fc77-6a11-48c4-999f-ff9b8376a5c2",
   "metadata": {},
   "source": [
    "Let's pretend bacon has the list [3.14, 'cat' 11, 'cat' True] for the next three questions."
   ]
  },
  {
   "cell_type": "markdown",
   "id": "fa67a68a-deb5-4473-9693-3d0480e6ce75",
   "metadata": {},
   "source": [
    "What is the value of bacon.index('cat')?"
   ]
  },
  {
   "cell_type": "code",
   "execution_count": 1,
   "id": "156f91cd-679e-452b-8e96-5edbd3acb4ce",
   "metadata": {},
   "outputs": [
    {
     "data": {
      "text/plain": [
       "1"
      ]
     },
     "execution_count": 1,
     "metadata": {},
     "output_type": "execute_result"
    }
   ],
   "source": [
    "bacon=[3.14, 'cat', 11, 'cat', True]\n",
    "bacon.index('cat')\n"
   ]
  },
  {
   "cell_type": "markdown",
   "id": "2dbab911-e880-40d8-b53e-cbb494296d01",
   "metadata": {},
   "source": [
    "7. How does bacon.append(99) change the look of the list value in bacon?"
   ]
  },
  {
   "cell_type": "code",
   "execution_count": 2,
   "id": "c512d5c4-de8e-4bf3-aadb-80b876a04de4",
   "metadata": {},
   "outputs": [],
   "source": [
    "bacon.append(99)"
   ]
  },
  {
   "cell_type": "code",
   "execution_count": 3,
   "id": "e102a3b1-4dda-480a-90ca-e4976da5672a",
   "metadata": {},
   "outputs": [
    {
     "data": {
      "text/plain": [
       "[3.14, 'cat', 11, 'cat', True, 99]"
      ]
     },
     "execution_count": 3,
     "metadata": {},
     "output_type": "execute_result"
    }
   ],
   "source": [
    "bacon"
   ]
  },
  {
   "cell_type": "markdown",
   "id": "94d7e623-e1b9-417c-96e7-432cd9dd559c",
   "metadata": {},
   "source": [
    "8. How does bacon.remove('cat') change the look of the list in bacon?"
   ]
  },
  {
   "cell_type": "code",
   "execution_count": 6,
   "id": "5fdf4c60-c449-4276-9018-16c823f1f95e",
   "metadata": {},
   "outputs": [],
   "source": [
    "bacon.remove('cat') #remove first occurence "
   ]
  },
  {
   "cell_type": "code",
   "execution_count": 5,
   "id": "e385aa69-eb14-4858-af15-93df3cd2abc9",
   "metadata": {},
   "outputs": [
    {
     "data": {
      "text/plain": [
       "[3.14, 11, 'cat', True, 99]"
      ]
     },
     "execution_count": 5,
     "metadata": {},
     "output_type": "execute_result"
    }
   ],
   "source": [
    "bacon"
   ]
  },
  {
   "cell_type": "markdown",
   "id": "4bcfee77-5e8f-4a18-9eac-f6b003bda98e",
   "metadata": {},
   "source": [
    "9. What are the list concatenation and list replication operators?"
   ]
  },
  {
   "cell_type": "markdown",
   "id": "9d0f0dd5-db4c-4c00-b426-8904c7218c7c",
   "metadata": {},
   "source": [
    "( * ) is list replication operator ( + ) is list concatination operator"
   ]
  },
  {
   "cell_type": "code",
   "execution_count": 7,
   "id": "e08393b3-8320-409f-964f-5cb45627c235",
   "metadata": {},
   "outputs": [
    {
     "data": {
      "text/plain": [
       "[1, 2, 3, 4, 5, 6, 7, 8]"
      ]
     },
     "execution_count": 7,
     "metadata": {},
     "output_type": "execute_result"
    }
   ],
   "source": [
    "l1=[1,2,3,4]\n",
    "l2=[5,6,7,8]\n",
    "l1+l2  #List concatenation"
   ]
  },
  {
   "cell_type": "code",
   "execution_count": 8,
   "id": "6794242b-e335-4100-be5c-42240a82e420",
   "metadata": {},
   "outputs": [
    {
     "data": {
      "text/plain": [
       "[1, 2, 3, 4, 1, 2, 3, 4]"
      ]
     },
     "execution_count": 8,
     "metadata": {},
     "output_type": "execute_result"
    }
   ],
   "source": [
    "l1*2 # List replication"
   ]
  },
  {
   "cell_type": "markdown",
   "id": "889e71ca-d396-4916-b91c-59c521cae45f",
   "metadata": {},
   "source": [
    "10. What is difference between the list methods append() and insert()?"
   ]
  },
  {
   "cell_type": "markdown",
   "id": "b1a01f3e-6a2c-4032-9545-6b696d4bc6cd",
   "metadata": {},
   "source": [
    "append() Appends object to the end of the list\n",
    "insert() Insert object before index"
   ]
  },
  {
   "cell_type": "code",
   "execution_count": 9,
   "id": "1a1e335d-e936-42dc-b0d7-57c043b0bd1c",
   "metadata": {},
   "outputs": [],
   "source": [
    "l1.append(66)"
   ]
  },
  {
   "cell_type": "code",
   "execution_count": 10,
   "id": "5656604a-49bc-4267-9cfb-9382f72f3d82",
   "metadata": {},
   "outputs": [
    {
     "data": {
      "text/plain": [
       "[1, 2, 3, 4, 66]"
      ]
     },
     "execution_count": 10,
     "metadata": {},
     "output_type": "execute_result"
    }
   ],
   "source": [
    "l1"
   ]
  },
  {
   "cell_type": "code",
   "execution_count": 12,
   "id": "ef58e818-0579-4ca1-a914-eefa645131a9",
   "metadata": {},
   "outputs": [],
   "source": [
    "l1.insert(2,'abc')"
   ]
  },
  {
   "cell_type": "code",
   "execution_count": 13,
   "id": "b8cdeb94-e316-435b-831d-5833b61a3ef2",
   "metadata": {},
   "outputs": [
    {
     "data": {
      "text/plain": [
       "[1, 2, 'abc', 3, 4, 66]"
      ]
     },
     "execution_count": 13,
     "metadata": {},
     "output_type": "execute_result"
    }
   ],
   "source": [
    "l1"
   ]
  },
  {
   "cell_type": "markdown",
   "id": "5e5802c8-a51c-4dac-9fd5-a32c8d796b13",
   "metadata": {},
   "source": [
    "11. What are the two methods for removing items from a list?"
   ]
  },
  {
   "cell_type": "code",
   "execution_count": 14,
   "id": "1562f495-423e-4999-ae3b-79069aa4326b",
   "metadata": {},
   "outputs": [],
   "source": [
    "#remove(item) - removeds first occurence of a item\n",
    "l1.remove(2)"
   ]
  },
  {
   "cell_type": "code",
   "execution_count": 15,
   "id": "5e1de59b-b2d9-4b1a-a4ec-08749a8b9855",
   "metadata": {},
   "outputs": [
    {
     "data": {
      "text/plain": [
       "[1, 'abc', 3, 4, 66]"
      ]
     },
     "execution_count": 15,
     "metadata": {},
     "output_type": "execute_result"
    }
   ],
   "source": [
    "l1"
   ]
  },
  {
   "cell_type": "code",
   "execution_count": 16,
   "id": "b389162c-9ef4-493f-bb9f-d1d0ba8ba695",
   "metadata": {},
   "outputs": [
    {
     "data": {
      "text/plain": [
       "[1, 'abc', 3, 4]"
      ]
     },
     "execution_count": 16,
     "metadata": {},
     "output_type": "execute_result"
    }
   ],
   "source": [
    "#pop() - Remove and returns item at index (default last).\n",
    "l1.pop()\n",
    "l1"
   ]
  },
  {
   "cell_type": "markdown",
   "id": "69460abf-c883-4ea5-ab18-e80748eab5b6",
   "metadata": {},
   "source": [
    "12. Describe how list values and string values are identical."
   ]
  },
  {
   "cell_type": "markdown",
   "id": "ba5a77d9-68e4-4c72-a256-54af3a2f1dcc",
   "metadata": {},
   "source": [
    "a.Both lists and strings can be passed to len()\n",
    "b.Have indexes and slices\n",
    "c.Can be used in for loops\n",
    "d.Can be concatenated or replicated\n",
    "e.Can be used with the in and not in operators"
   ]
  },
  {
   "cell_type": "markdown",
   "id": "c27e7596-9d6f-4246-97b3-33967ee30725",
   "metadata": {},
   "source": [
    "13. What's the difference between tuples and lists?"
   ]
  },
  {
   "cell_type": "markdown",
   "id": "2cba766c-1453-40dc-9e5a-ad5f849fe96b",
   "metadata": {},
   "source": [
    "Lists : are mutable - they can have values added, removed, or changed. lists use the square brackets, [ and ]\n",
    "Tuples : are immutable; they cannot be changed at all. Tuples are written using parentheses, ( and )"
   ]
  },
  {
   "cell_type": "markdown",
   "id": "db012e14-5ad5-422d-8199-0f4100a8625a",
   "metadata": {},
   "source": [
    "14. How do you type a tuple value that only contains the integer 42?"
   ]
  },
  {
   "cell_type": "code",
   "execution_count": 21,
   "id": "c0f74acc-2b4c-44ff-81fc-2b97d4b72ff7",
   "metadata": {},
   "outputs": [],
   "source": [
    "a=(42,) #Tuple"
   ]
  },
  {
   "cell_type": "code",
   "execution_count": 22,
   "id": "60ca67c5-311b-4774-8c40-fce022b9a13c",
   "metadata": {},
   "outputs": [
    {
     "data": {
      "text/plain": [
       "(42,)"
      ]
     },
     "execution_count": 22,
     "metadata": {},
     "output_type": "execute_result"
    }
   ],
   "source": [
    "a"
   ]
  },
  {
   "cell_type": "markdown",
   "id": "12366394-f68a-4356-a83c-cef77eb3a60c",
   "metadata": {},
   "source": [
    "15. How do you get a list value's tuple form? How do you get a tuple value&#39;s list form?"
   ]
  },
  {
   "cell_type": "code",
   "execution_count": 31,
   "id": "d01db2e8-f5a7-4cc1-be87-ced901a890bc",
   "metadata": {},
   "outputs": [
    {
     "data": {
      "text/plain": [
       "('Arav', 'Anju', 22, 55.6)"
      ]
     },
     "execution_count": 31,
     "metadata": {},
     "output_type": "execute_result"
    }
   ],
   "source": [
    "lis1=['Arav','Anju',22,55.6]\n",
    "names=tuple(lis1)# converting list into tuple\n",
    "names"
   ]
  },
  {
   "cell_type": "code",
   "execution_count": 40,
   "id": "b339eb00-6ce7-4765-96cb-e7602a213d2b",
   "metadata": {},
   "outputs": [
    {
     "data": {
      "text/plain": [
       "tuple"
      ]
     },
     "execution_count": 40,
     "metadata": {},
     "output_type": "execute_result"
    }
   ],
   "source": [
    "cart=('watch','mobile')\n",
    "type(cart)\n",
    "\n",
    "\n"
   ]
  },
  {
   "cell_type": "code",
   "execution_count": 41,
   "id": "23a8dc51-d0a6-43b3-957e-24dce1f0dbcb",
   "metadata": {},
   "outputs": [
    {
     "ename": "TypeError",
     "evalue": "'list' object is not callable",
     "output_type": "error",
     "traceback": [
      "\u001b[0;31m---------------------------------------------------------------------------\u001b[0m",
      "\u001b[0;31mTypeError\u001b[0m                                 Traceback (most recent call last)",
      "Input \u001b[0;32mIn [41]\u001b[0m, in \u001b[0;36m<cell line: 1>\u001b[0;34m()\u001b[0m\n\u001b[0;32m----> 1\u001b[0m t2\u001b[38;5;241m=\u001b[39m\u001b[38;5;28;43mlist\u001b[39;49m\u001b[43m(\u001b[49m\u001b[43mcart\u001b[49m\u001b[43m)\u001b[49m\n",
      "\u001b[0;31mTypeError\u001b[0m: 'list' object is not callable"
     ]
    }
   ],
   "source": [
    "t2=list(cart)"
   ]
  },
  {
   "cell_type": "markdown",
   "id": "cbe023d4-22ac-4177-8a52-ec4083ba1536",
   "metadata": {},
   "source": [
    "16.Variables that \"contain\" list values are not necessarily lists themselves. Instead, what do they contain?"
   ]
  },
  {
   "cell_type": "markdown",
   "id": "3ff42b24-2096-455a-8b57-953adf9ff842",
   "metadata": {},
   "source": [
    "They contain references to list values"
   ]
  },
  {
   "cell_type": "markdown",
   "id": "9f35e75b-b374-4e2a-a2c6-6ac18be5f1db",
   "metadata": {},
   "source": [
    "How do you distinguish between copy.copy() and copy.deepcopy()?"
   ]
  },
  {
   "cell_type": "markdown",
   "id": "c8109f6c-c6bf-463a-a914-285a209787e3",
   "metadata": {},
   "source": [
    "The copy.copy() function will do a shallow copy of a list,\n",
    "The copy.deepcopy() function will do a deep copy of a list. only copy.deepcopy() will duplicate any lists inside the list"
   ]
  }
 ],
 "metadata": {
  "kernelspec": {
   "display_name": "Python 3 (ipykernel)",
   "language": "python",
   "name": "python3"
  },
  "language_info": {
   "codemirror_mode": {
    "name": "ipython",
    "version": 3
   },
   "file_extension": ".py",
   "mimetype": "text/x-python",
   "name": "python",
   "nbconvert_exporter": "python",
   "pygments_lexer": "ipython3",
   "version": "3.9.12"
  }
 },
 "nbformat": 4,
 "nbformat_minor": 5
}
