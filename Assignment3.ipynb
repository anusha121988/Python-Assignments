{
 "cells": [
  {
   "cell_type": "markdown",
   "id": "f0ae2bb4-e559-4e5d-b9ca-b71547dd1f41",
   "metadata": {},
   "source": [
    "1. Why are functions advantageous to have in your programs?"
   ]
  },
  {
   "cell_type": "markdown",
   "id": "564cbd07-23bc-44d4-85af-ec4acc6884f3",
   "metadata": {},
   "source": [
    "A Function Can be defined as a collection of statements that performs given task. Function Advantages:- Reusability, Eliminates redundancy or duplication, Reduces size or length of a program, maintains modular structure of a program. "
   ]
  },
  {
   "cell_type": "markdown",
   "id": "ef582bc7-27c5-4f14-b04a-9bb637c6cffd",
   "metadata": {},
   "source": [
    "2. When does the code in a function run: when it&#39;s specified or when it&#39;s called?"
   ]
  },
  {
   "cell_type": "markdown",
   "id": "88656115-1431-4fcc-be69-da95d3700b3a",
   "metadata": {},
   "source": [
    "The code in a function executes when the function is called, not when the function is defined or specifoed."
   ]
  },
  {
   "cell_type": "markdown",
   "id": "5d7970d1-8c7e-4dab-a202-b827b3ac1ab8",
   "metadata": {},
   "source": [
    "3. What statement creates a function?"
   ]
  },
  {
   "cell_type": "markdown",
   "id": "48dd566d-1ea5-44a4-8ff1-0557d4416b2f",
   "metadata": {},
   "source": [
    "Python creating functions. A function is created with the def keyword. The statements in the block of the function must be indented. The def keyword is followed by the function name with round brackets and a colon."
   ]
  },
  {
   "cell_type": "markdown",
   "id": "34e78c6c-f97d-4c3b-b398-b6971db5bce6",
   "metadata": {},
   "source": [
    "4. What is the difference between a function and a function call?"
   ]
  },
  {
   "cell_type": "markdown",
   "id": "01088e87-6a02-48a0-ab0a-1a644c739756",
   "metadata": {},
   "source": [
    "A function is a block of code that does a particular operation and returns a result. It usually accepts inputs as parameters and returns a result. The parameters are not mandatory.\n",
    "\n",
    "E.g:\n",
    "Function add(a,b)\n",
    "return a+ b\n",
    "\n",
    "A function call is the code used to pass control to a function.\n",
    "\n",
    "E.g.:\n",
    "\n",
    "b = add(5,6)\n",
    "\n",
    "Now b will have the value 11.\n"
   ]
  },
  {
   "cell_type": "markdown",
   "id": "33636b55-79fa-42c4-8eab-7b10bdb562c0",
   "metadata": {},
   "source": [
    "5. How many global scopes are there in a Python program? How many local scopes?"
   ]
  },
  {
   "cell_type": "markdown",
   "id": "004316c3-17f9-4b88-887b-e6da45cea127",
   "metadata": {},
   "source": [
    "There's only one global Python scope per program execution. This scope remains in existence until the program terminates and all its names are forgotten. Otherwise, the next time you were to run the program, the names would remember their values from the previous run."
   ]
  },
  {
   "cell_type": "markdown",
   "id": "7bc00ac4-d6d1-4b67-8aae-f1ba3a7eb30c",
   "metadata": {},
   "source": [
    "6. What happens to variables in a local scope when the function call returns?"
   ]
  },
  {
   "cell_type": "markdown",
   "id": "6a9a23ac-9529-46e8-b3b4-615ccdc85f80",
   "metadata": {},
   "source": [
    "For every function call a stack frame is created inside stack where memory for all variables will be allocated. When the function completes its execution corresponding stack frame will be destroyed including its local variables\n"
   ]
  },
  {
   "cell_type": "markdown",
   "id": "27c2cd89-fb67-41e3-a226-31a9c19da910",
   "metadata": {},
   "source": [
    "7. What is the concept of a return value? Is it possible to have a return value in an expression?"
   ]
  },
  {
   "cell_type": "markdown",
   "id": "c9d8df1f-41d1-4257-9f20-a103531e62d8",
   "metadata": {},
   "source": [
    "A return is a value that a function returns to the calling script or function when it completes its task. A return value can be any one of the four variable .\n",
    "The Python return statement is a key component of functions and methods. You can use the return statement to make your functions send Python objects back to the caller code. These objects are known as the function's return value. You can use them to perform further computation in your programs."
   ]
  },
  {
   "cell_type": "markdown",
   "id": "7dae1382-d33f-4d62-b695-bc5f969de7d2",
   "metadata": {},
   "source": [
    "8. If a function does not have a return statement, what is the return value of a call to that function?"
   ]
  },
  {
   "cell_type": "markdown",
   "id": "7ec10310-6d8f-460a-8b7b-81a1a30a28b1",
   "metadata": {},
   "source": [
    "So, if you don't explicitly use a return value in a return statement, or if you totally omit the return statement, then Python will implicitly return a default value for you. That default return value will always be None ."
   ]
  },
  {
   "cell_type": "markdown",
   "id": "06c94da1-b190-40a7-a3a8-1f11f4940c2e",
   "metadata": {},
   "source": [
    "9. How do you make a function variable refer to the global variable?"
   ]
  },
  {
   "cell_type": "markdown",
   "id": "d02ec242-8f84-406c-ab65-f8fd38428c8e",
   "metadata": {},
   "source": [
    "Normally, when you create a variable inside a function, that variable is local, and can only be used inside that function. To create a global variable inside a function, you can use the global keyword."
   ]
  },
  {
   "cell_type": "markdown",
   "id": "92f825dc-ddbb-45a8-ae6c-467e452ff41c",
   "metadata": {},
   "source": [
    "10. What is the data type of None?"
   ]
  },
  {
   "cell_type": "markdown",
   "id": "fa3a591b-ec88-4b3d-9efe-7e3c4507b716",
   "metadata": {},
   "source": [
    "The None keyword is used to define a null value, or no value at all. None is not the same as 0, False, or an empty string. None is a data type of its own (NoneType) and only None can be None."
   ]
  },
  {
   "cell_type": "markdown",
   "id": "2dadf531-323b-44c8-9b24-bb3499448cc7",
   "metadata": {},
   "source": [
    "11. What does the sentence import areallyourpetsnamederic do?"
   ]
  },
  {
   "cell_type": "markdown",
   "id": "c0524ded-c15d-4ff2-9d39-8128ad5902da",
   "metadata": {},
   "source": [
    "That import statement imports a module named areallyourpetsnamederic."
   ]
  },
  {
   "cell_type": "markdown",
   "id": "8c7b97f6-bded-4f08-ac38-6c50ee0980f5",
   "metadata": {},
   "source": [
    "12. If you had a bacon() feature in a spam module, what would you call it after importing spam?"
   ]
  },
  {
   "cell_type": "markdown",
   "id": "4aa7dfa8-8673-4dc6-a8c9-0f44e8b008ae",
   "metadata": {},
   "source": [
    "This function can be called with spam.bacon()."
   ]
  },
  {
   "cell_type": "markdown",
   "id": "15831bc6-0c34-480a-a0c9-a933c0743655",
   "metadata": {},
   "source": [
    "13. What can you do to save a programme from crashing if it encounters an error?"
   ]
  },
  {
   "cell_type": "markdown",
   "id": "87791503-b256-4352-bd77-48bdfdac8658",
   "metadata": {},
   "source": [
    "Place the line of code that might cause an error in a try clause."
   ]
  },
  {
   "cell_type": "markdown",
   "id": "4213f967-8adf-47bf-a427-5c18c89aaea4",
   "metadata": {},
   "source": [
    "14. What is the purpose of the try clause? What is the purpose of the except clause?"
   ]
  },
  {
   "cell_type": "markdown",
   "id": "b1880484-5f7d-4521-b640-ac542efb5a40",
   "metadata": {},
   "source": [
    "The code that could potentially cause an error goes in the try clause. -The code that executes if an error happens goes in the except clause"
   ]
  }
 ],
 "metadata": {
  "kernelspec": {
   "display_name": "Python 3 (ipykernel)",
   "language": "python",
   "name": "python3"
  },
  "language_info": {
   "codemirror_mode": {
    "name": "ipython",
    "version": 3
   },
   "file_extension": ".py",
   "mimetype": "text/x-python",
   "name": "python",
   "nbconvert_exporter": "python",
   "pygments_lexer": "ipython3",
   "version": "3.9.12"
  }
 },
 "nbformat": 4,
 "nbformat_minor": 5
}
