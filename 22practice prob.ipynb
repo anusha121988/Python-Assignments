{
 "cells": [
  {
   "cell_type": "markdown",
   "id": "7f1e4dbf-7d92-45ff-9c30-0f41d356b662",
   "metadata": {},
   "source": [
    " Print the first 5 positive integers in ascending order with one number\n",
    "    "
   ]
  },
  {
   "cell_type": "code",
   "execution_count": 1,
   "id": "0b7edac3-fdbc-4fd5-bca0-6b06e656ab95",
   "metadata": {},
   "outputs": [
    {
     "name": "stdout",
     "output_type": "stream",
     "text": [
      "1\n",
      "2\n",
      "3\n",
      "4\n",
      "5\n"
     ]
    }
   ],
   "source": [
    "for i in range(1,6):\n",
    "    print(i)"
   ]
  },
  {
   "cell_type": "markdown",
   "id": "d15ceed6-8d9d-40dc-b94f-58a736d41921",
   "metadata": {},
   "source": [
    "Print the following pattern"
   ]
  },
  {
   "cell_type": "code",
   "execution_count": 3,
   "id": "b1b77b60-7e97-4a9f-8e94-00fdb38acb53",
   "metadata": {},
   "outputs": [
    {
     "name": "stdout",
     "output_type": "stream",
     "text": [
      "\n",
      "*\n",
      "**\n",
      "***\n",
      "****\n",
      "*****\n"
     ]
    }
   ],
   "source": [
    "for i in range(0,6):\n",
    "    for j in range(i):\n",
    "        print('*',end='')\n",
    "    print('')"
   ]
  },
  {
   "cell_type": "markdown",
   "id": "16aed4f5-d57d-4fe1-9563-5e120af7fa9d",
   "metadata": {},
   "source": [
    "Accept an integer as input and print its square as output."
   ]
  },
  {
   "cell_type": "code",
   "execution_count": 6,
   "id": "26189e9f-a5b0-4b95-922f-46b91f671fed",
   "metadata": {},
   "outputs": [
    {
     "name": "stdin",
     "output_type": "stream",
     "text": [
      "enter a number 3\n"
     ]
    },
    {
     "name": "stdout",
     "output_type": "stream",
     "text": [
      "9\n"
     ]
    }
   ],
   "source": [
    "a=int(input('enter a number'))\n",
    "print(a*a)"
   ]
  },
  {
   "cell_type": "markdown",
   "id": "296005bb-db74-4f9c-8c8c-77a72581b458",
   "metadata": {},
   "source": [
    "4.Accept two integers as input and print their sum as output."
   ]
  },
  {
   "cell_type": "code",
   "execution_count": 7,
   "id": "d0cc88ba-a7c2-4d52-98ea-2ddceebbe78e",
   "metadata": {},
   "outputs": [
    {
     "name": "stdin",
     "output_type": "stream",
     "text": [
      "enter a num1 2\n",
      "enter a num1 3\n"
     ]
    },
    {
     "name": "stdout",
     "output_type": "stream",
     "text": [
      "5\n"
     ]
    }
   ],
   "source": [
    "n=int(input('enter a num1'))\n",
    "m=int(input('enter a num1'))\n",
    "print(n+m)\n"
   ]
  },
  {
   "cell_type": "markdown",
   "id": "4f5c00e6-8a09-4f6e-9137-fb750666aac7",
   "metadata": {},
   "source": [
    "Accept two words as input and print the two words after adding a \n",
    "space between them"
   ]
  },
  {
   "cell_type": "markdown",
   "id": "d5c30656-7817-4f52-8c21-905b4ac1a55d",
   "metadata": {},
   "source": [
    ". Accept the registration number of a vehicle as input and print its \n",
    "state-code as output."
   ]
  },
  {
   "cell_type": "code",
   "execution_count": 10,
   "id": "5256869e-8350-4423-bcae-78f633c47201",
   "metadata": {},
   "outputs": [
    {
     "name": "stdin",
     "output_type": "stream",
     "text": [
      " KA1089\n"
     ]
    },
    {
     "name": "stdout",
     "output_type": "stream",
     "text": [
      "KA\n"
     ]
    }
   ],
   "source": [
    "n=input()\n",
    "print(n[0:2])"
   ]
  },
  {
   "cell_type": "markdown",
   "id": "9174400b-d419-42ae-a10a-646eed0275f1",
   "metadata": {},
   "source": [
    ".Accept a five-digit number as input and print the sum of its digits as \n",
    "output."
   ]
  },
  {
   "cell_type": "code",
   "execution_count": 15,
   "id": "ad31a386-8908-4e46-b606-7f618ad97622",
   "metadata": {},
   "outputs": [
    {
     "name": "stdin",
     "output_type": "stream",
     "text": [
      "5 digt number 12345\n"
     ]
    },
    {
     "name": "stdout",
     "output_type": "stream",
     "text": [
      "15\n"
     ]
    }
   ],
   "source": [
    "num=input('5 digt number')\n",
    "a1=int(num[0])\n",
    "a2=int(num[1])\n",
    "a3=int(num[2])\n",
    "a4=int(num[3])\n",
    "a5=int(num[4])\n",
    "print(a1+a2+a3+a4+a5)\n",
    "        "
   ]
  },
  {
   "cell_type": "code",
   "execution_count": null,
   "id": "775259f3-2b56-44d7-b849-a4b62b5b5e5e",
   "metadata": {},
   "outputs": [],
   "source": [
    "num=input('5 digt number')\n",
    "a=0\n",
    "for i in num:\n",
    "    a=i+1\n",
    "    \n",
    "    "
   ]
  },
  {
   "cell_type": "markdown",
   "id": "5bf9dfca-64e6-42c1-a2ba-ffd010a693e5",
   "metadata": {},
   "source": [
    "8.Accept five words as input and print the sentence formed by these \n",
    "words after adding a space between consecutive words and a full stop \n",
    "at the end."
   ]
  },
  {
   "cell_type": "code",
   "execution_count": 8,
   "id": "5552c593-1e5e-4693-9523-2e51e8ad6527",
   "metadata": {},
   "outputs": [
    {
     "name": "stdin",
     "output_type": "stream",
     "text": [
      " ee\n",
      " ee\n",
      " eee\n",
      " dd\n",
      " ff\n",
      " ff\n"
     ]
    },
    {
     "name": "stdout",
     "output_type": "stream",
     "text": [
      "eeeeeeeffff.\n"
     ]
    }
   ],
   "source": [
    "word1=input()\n",
    "word2=input()\n",
    "word3=input()\n",
    "word4=input()\n",
    "word4=input()\n",
    "word5=input()\n",
    "word6='.'\n",
    "d=word1 + word2 + word3  + word4 + word5 + word6\n",
    "print(d)"
   ]
  },
  {
   "cell_type": "markdown",
   "id": "8d9b4e61-d038-4ae8-bf29-1622b13edd20",
   "metadata": {},
   "source": [
    "9.Accept the date in DD-MM-YYYY format as input and print the \n",
    "year as output."
   ]
  },
  {
   "cell_type": "markdown",
   "id": "b5e232ba-7049-43a2-9fa3-af31c7341577",
   "metadata": {},
   "source": [
    "date=input('enter a date as DD-MM-YYYY')\n",
    "print(date[7:11])"
   ]
  },
  {
   "cell_type": "code",
   "execution_count": 18,
   "id": "854a75a4-f5d2-476d-99c6-56f1982cf49f",
   "metadata": {},
   "outputs": [
    {
     "name": "stdin",
     "output_type": "stream",
     "text": [
      "enter a date as DD-MM-YYYY 12-06-1988\n"
     ]
    },
    {
     "name": "stdout",
     "output_type": "stream",
     "text": [
      "1988\n"
     ]
    }
   ],
   "source": [
    "date=input('enter a date as DD-MM-YYYY') \n",
    "print(date[6:11])"
   ]
  },
  {
   "cell_type": "markdown",
   "id": "f5d34cf8-4e59-423e-aff7-14ac998a341e",
   "metadata": {},
   "source": [
    "10.Accept a sequence of five single digit numbers separated by commas \n",
    "as input. Print the product of all five numbers."
   ]
  },
  {
   "cell_type": "code",
   "execution_count": 4,
   "id": "26334b5f-d8aa-491b-a49a-f91be21b58c2",
   "metadata": {},
   "outputs": [
    {
     "name": "stdout",
     "output_type": "stream",
     "text": [
      "120\n"
     ]
    }
   ],
   "source": [
    "n=[1,2,3,4,5]\n",
    "a=1\n",
    "for i in n:\n",
    "    #if i != ',':\n",
    "        a=a*i\n",
    "        \n",
    "print(a)\n"
   ]
  },
  {
   "cell_type": "markdown",
   "id": "cc6f820b-d557-4f1a-b78c-74d644b70b36",
   "metadata": {},
   "source": [
    "11. Accept two positive integers x and y as input. Print the number of \n",
    "digits in xy"
   ]
  },
  {
   "cell_type": "code",
   "execution_count": 25,
   "id": "6a2e5bae-0d90-4e8d-9581-66bb4e4de186",
   "metadata": {},
   "outputs": [
    {
     "name": "stdin",
     "output_type": "stream",
     "text": [
      " 2\n",
      " 3\n"
     ]
    },
    {
     "name": "stdout",
     "output_type": "stream",
     "text": [
      "8\n",
      "1\n"
     ]
    }
   ],
   "source": [
    "x=int(input())\n",
    "y=int(input())\n",
    "r=x**y\n",
    "s=str(r)\n",
    "print(s)\n",
    "print(len(s))"
   ]
  },
  {
   "cell_type": "markdown",
   "id": "3c0b08a5-a8d6-4122-a1de-a75fae93baa6",
   "metadata": {},
   "source": [
    "12. Accept a string as input. If the input string is of odd length, then \n",
    "continue with it. If the input string is of even length, make the \n",
    "string of odd length as below:\n",
    "• If the last character is a period (.), then remove it \n",
    "• If the last character is not a period, then add a period (.) to the \n",
    "end of the string\n",
    "Call this string of odd length word. Select a substring made up of \n",
    "three consecutive characters from word such that there are an \n",
    "equal number of characters to the left and right of this substring. \n",
    "Print this substring as output. You can assume that all input \n",
    "strings will be in lower case and will have a length of at least four"
   ]
  },
  {
   "cell_type": "code",
   "execution_count": 7,
   "id": "a8f05aa7-c7f5-41ba-9218-2d0a50eb844a",
   "metadata": {},
   "outputs": [
    {
     "name": "stdin",
     "output_type": "stream",
     "text": [
      " dad.\n"
     ]
    },
    {
     "name": "stdout",
     "output_type": "stream",
     "text": [
      "dad\n"
     ]
    }
   ],
   "source": [
    "s=input()\n",
    "n=len(s)\n",
    "if n%2==0:\n",
    "    if s[n-1]=='.':\n",
    "        s=s[:-1]\n",
    "    else:\n",
    "        s=s+'.'\n",
    "n=int((len(s)-1)/2)\n",
    "print(s[n-1:n+2])\n",
    "        \n",
    "        \n",
    "        \n",
    "    "
   ]
  },
  {
   "cell_type": "markdown",
   "id": "1efe2382-8f3e-4910-98c1-df9654fb0cce",
   "metadata": {},
   "source": [
    "13. Accept three positive integers as input and check if they form the \n",
    "sides of a right triangle. Print YES if they form one, and NO is they do \n",
    "not. The input will have three lines, with one integer on each line. \n",
    "The output should be a single line containing one of these two \n",
    "strings: YES or NO."
   ]
  },
  {
   "cell_type": "code",
   "execution_count": 35,
   "id": "59c2e6ca-ba96-4c1e-9d5e-4ff5c916308f",
   "metadata": {},
   "outputs": [
    {
     "name": "stdin",
     "output_type": "stream",
     "text": [
      " 2\n",
      " 4\n",
      " 5\n"
     ]
    },
    {
     "name": "stdout",
     "output_type": "stream",
     "text": [
      "no\n"
     ]
    }
   ],
   "source": [
    "x=int(input())\n",
    "y=int(input())\n",
    "z=int(input())\n",
    "if ((x**2+y**2==z**2) or\n",
    "   (x**2+z**2==x**2) or \n",
    "   (z**2+y**2==x**2)):\n",
    "    print('yes')\n",
    "else:\n",
    "    print('no')\n",
    "    \n",
    "    "
   ]
  },
  {
   "cell_type": "markdown",
   "id": "c45f2062-d3e2-4eb8-825c-2366024d104d",
   "metadata": {},
   "source": [
    "14. EvenOdd is a tech startup. Each employee at the startup is given an employee id which is a unique \n",
    "positive integer. On one warm Sunday evening, five employees of the company come together for a \n",
    "meeting and sit at a circular table:\n",
    "The employees follow a strange convention. They will continue the meeting only if the following \n",
    "condition is satisfied.\n",
    "The sum of the employee-ids of every pair of adjacent employees at the table must be an even \n",
    "number.\n",
    "They are so lazy that they won’t move around to satisfy the above condition, If the current seating \n",
    "plan doesn’t satisfy the condition, the meeting will be cancelled. You are given the employee-id of all \n",
    "five employees. Your task is to decide if the meeting happened or not.\n",
    "The input will be five lined, each containing an integer. The ith line will have the employee-id of Ei. \n",
    "The output will be a single line containing one of these two strings: YES or NO"
   ]
  },
  {
   "cell_type": "code",
   "execution_count": 38,
   "id": "d3916fbb-4cc3-4298-a51c-24e8d58efdf5",
   "metadata": {},
   "outputs": [
    {
     "name": "stdin",
     "output_type": "stream",
     "text": [
      " 1\n",
      " 2\n",
      " 3\n",
      " 4\n",
      " 5\n"
     ]
    },
    {
     "name": "stdout",
     "output_type": "stream",
     "text": [
      "no\n"
     ]
    }
   ],
   "source": [
    "e1=int(input())\n",
    "e2=int(input())\n",
    "e3= int(input())\n",
    "e4=int(input())\n",
    "e5=int(input())\n",
    "if(( (e1+e2) % 2 == 0) and\n",
    "   ((e2+e3) % 2 == 0) and \n",
    "   ((e3+e4) % 2 == 0) and \n",
    "   ((e4+e5) % 2 == 0)):\n",
    "   print('yes')\n",
    "else:\n",
    "   print('no')\n",
    "   \n",
    "\n"
   ]
  },
  {
   "cell_type": "markdown",
   "id": "56cddd24-132a-4a0e-aeb7-e8429b01aa54",
   "metadata": {},
   "source": [
    "15. Accept a string as input and print the vowels present in the string in \n",
    "alphabetical order. If the string doesn’t contain any vowels, then \n",
    "print the string none as output. Each vowel that appears in the input \n",
    "string – irrespective of its case should appear just once in lower case \n",
    "in the output"
   ]
  },
  {
   "cell_type": "code",
   "execution_count": 39,
   "id": "34bd7096-70bc-4b7a-ae64-815a59b76c4e",
   "metadata": {},
   "outputs": [
    {
     "name": "stdin",
     "output_type": "stream",
     "text": [
      " ravi\n"
     ]
    },
    {
     "name": "stdout",
     "output_type": "stream",
     "text": [
      "ravi\n",
      "['a', 'i']\n"
     ]
    }
   ],
   "source": [
    "s=input()\n",
    "new=list(s)\n",
    "print(s)\n",
    "v=['a','e','i','o','u']\n",
    "l=[]\n",
    "for i in new:\n",
    "    if i in v:\n",
    "        l.append(i)\n",
    "print(l)\n",
    "        \n"
   ]
  },
  {
   "cell_type": "markdown",
   "id": "bfc28702-d781-44e4-9fff-e5d612853c22",
   "metadata": {},
   "source": [
    "16.You are given the date of birth of two persons, not necessarily from \n",
    "the same family. Your task is to find the younger of the two. If both \n",
    "of them share the same date of birth, then the younger of the two is \n",
    "assumed to be that person whose name comes first in alphabetical \n",
    "order.\n",
    "The input will have four lines. The first two lines correspond to the \n",
    "first person, while the last two lines correspond to the second \n",
    "person. For each person, the first line corresponds to the name and \n",
    "the second line corresponds to the date of birth in “DD-MM-YYYY” \n",
    "format. Your output should be the name of the younger of the two."
   ]
  },
  {
   "cell_type": "code",
   "execution_count": 46,
   "id": "fdc603d0-8552-41e0-9211-cf5a05aca416",
   "metadata": {},
   "outputs": [
    {
     "name": "stdin",
     "output_type": "stream",
     "text": [
      "Enter a first name sara\n",
      "edob 22-08-1988\n",
      "Enter a second name buv\n",
      "dob 22-06-1988\n"
     ]
    },
    {
     "name": "stdout",
     "output_type": "stream",
     "text": [
      "buv\n"
     ]
    }
   ],
   "source": [
    "name1=input('Enter a first name')\n",
    "d1=input('edob')\n",
    "name2=input('Enter a second name')\n",
    "d2=input('dob')\n",
    "if d1==d2:\n",
    "    if name1<name2:\n",
    "        print(name1)\n",
    "    else:\n",
    "        print(name2)\n",
    "elif d1[-4:]!=d2[-4:]:\n",
    "        \n",
    "        if (d1[-4:]<d2[-4:]):\n",
    "            \n",
    "            print(name1)\n",
    "        else:\n",
    "            print(name2)\n",
    "            \n",
    "elif d1[3:5]!=d2[3:5]:\n",
    "        if d1[3:5]<d2[3:5]:\n",
    "            print(name1)\n",
    "        else:\n",
    "            print(name2)\n",
    "else:\n",
    "    if d1[0:3]!=d2[0:3]:\n",
    "        if d1[0:3]<d2[0:3]:\n",
    "            print(name1)\n",
    "        else:\n",
    "            print(name2)\n",
    "        \n",
    "    \n"
   ]
  },
  {
   "cell_type": "code",
   "execution_count": 48,
   "id": "3e056439-1027-4b04-bfe5-948f1ff0d733",
   "metadata": {},
   "outputs": [
    {
     "name": "stdin",
     "output_type": "stream",
     "text": [
      "Enter a first name akhshita\n",
      "edob 14-05-2009\n",
      "Enter a second name manvit\n",
      "dob 22-09-2014\n"
     ]
    },
    {
     "name": "stdout",
     "output_type": "stream",
     "text": [
      "manvit\n"
     ]
    }
   ],
   "source": [
    "name1=input('Enter a first name')\n",
    "d1=input('edob')\n",
    "name2=input('Enter a second name')\n",
    "d2=input('dob')\n",
    "if d1==d2:\n",
    "    if name1<name2:\n",
    "        print(name1)\n",
    "    else:\n",
    "        print(name2)\n",
    "elif d1[-4:]!=d2[-4:]:\n",
    "        \n",
    "        if (d1[-4:]<d2[-4:]):\n",
    "            \n",
    "            print(name2)\n",
    "        else:\n",
    "            print(name1)\n",
    "            \n",
    "elif d1[3:5]!=d2[3:5]:\n",
    "        if d1[3:5]<d2[3:5]:\n",
    "            print(name2)\n",
    "        else:\n",
    "            print(name1)\n",
    "else:\n",
    "    if d1[0:3]!=d2[0:3]:\n",
    "        if d1[0:3]<d2[0:3]:\n",
    "            print(name2)\n",
    "        else:\n",
    "            print(name1)\n",
    "        \n",
    "    \n",
    "\n",
    "\n"
   ]
  },
  {
   "cell_type": "markdown",
   "id": "27006253-5dd2-4b57-a241-3a3848b589ec",
   "metadata": {},
   "source": [
    "17.Accept a string as input. Your task is to determine if the input string is a valid password or not. For a \n",
    "string to be a valid password, it must satisfy all the conditions given below:\n",
    "(1) It should have at least 8 and at most 32 characters\n",
    "(2) It should start with an uppercase or lowercase letter\n",
    "(3) It should not have any of these characters: / \\ = ' \"\n",
    "(4) It should not have spaces\n",
    "It could have any character that is not mentioned in the list of characters to be avoided (points 3 and \n",
    "4). Output True if the string forms a valid password and False otherwise"
   ]
  },
  {
   "cell_type": "code",
   "execution_count": 14,
   "id": "abe3aef9-9513-42c0-a962-a6d370c6008a",
   "metadata": {},
   "outputs": [
    {
     "name": "stdin",
     "output_type": "stream",
     "text": [
      "enter ur password ddggh%\n"
     ]
    },
    {
     "name": "stdout",
     "output_type": "stream",
     "text": [
      "false\n"
     ]
    }
   ],
   "source": [
    "p=input('enter ur password')\n",
    "if 8 <= len(p) <= 32 and p[0].isalpha() and '/' not in p  and  '=' not in p  :\n",
    "    print('true')\n",
    "else :\n",
    "    print('false')\n"
   ]
  },
  {
   "cell_type": "markdown",
   "id": "7499509f-f66b-48fe-aa61-f3043a9cc960",
   "metadata": {},
   "source": [
    "18. Accept a positive integer n as input and print the first n positive \n",
    "integers, one number on each line."
   ]
  },
  {
   "cell_type": "code",
   "execution_count": 54,
   "id": "02ed57b6-e4ea-40d7-861c-3526abbb04d3",
   "metadata": {},
   "outputs": [
    {
     "name": "stdin",
     "output_type": "stream",
     "text": [
      " 3\n"
     ]
    },
    {
     "name": "stdout",
     "output_type": "stream",
     "text": [
      "1\n",
      "2\n",
      "3\n"
     ]
    }
   ],
   "source": [
    "n=int(input())\n",
    "for i in range (1,n+1):\n",
    "    print(i)"
   ]
  },
  {
   "cell_type": "markdown",
   "id": "02306673-836d-4632-8018-6e27c776b23d",
   "metadata": {},
   "source": [
    "19.Accept a positive integer n as input, where n is greater than 1. \n",
    "Print PRIME ifnis a prime number and NOTPRIME otherwise."
   ]
  },
  {
   "cell_type": "code",
   "execution_count": 16,
   "id": "06a1d757-090f-42dd-9478-986db7493f87",
   "metadata": {},
   "outputs": [
    {
     "name": "stdin",
     "output_type": "stream",
     "text": [
      " 4\n"
     ]
    },
    {
     "name": "stdout",
     "output_type": "stream",
     "text": [
      "False\n"
     ]
    }
   ],
   "source": [
    "n=int(input())\n",
    "isprime=True\n",
    "if n==1:\n",
    "    isprime=False\n",
    "else:\n",
    "    if n%2==0:\n",
    "        isprime=False\n",
    "    else:\n",
    "        for i in range(2,n):\n",
    "            if n%i!= 0:\n",
    "                isprime=True\n",
    "            else:\n",
    "                isprime=False\n",
    "print(isprime)\n"
   ]
  },
  {
   "cell_type": "markdown",
   "id": "af1f84ce-cb4f-4e1a-beb7-2d2ec956f510",
   "metadata": {},
   "source": [
    "20. Accept two strings as input and form a new string by removing all \n",
    "characters from the second string which are present in the first string. \n",
    "Print this new string as output. You can assume that all input strings \n",
    "will be in lower case."
   ]
  },
  {
   "cell_type": "code",
   "execution_count": 18,
   "id": "f9279655-7f0e-4dfd-a975-84de31bf5ea4",
   "metadata": {},
   "outputs": [
    {
     "name": "stdin",
     "output_type": "stream",
     "text": [
      " venki\n",
      " anusha\n"
     ]
    },
    {
     "name": "stdout",
     "output_type": "stream",
     "text": [
      "ausha\n"
     ]
    }
   ],
   "source": [
    "s1=input()\n",
    "s2=input()\n",
    "for i in s1:\n",
    "    if i in s2:\n",
    "        s2=s2.replace(i,'')\n",
    "print(s2)\n",
    "        \n",
    "        "
   ]
  },
  {
   "cell_type": "markdown",
   "id": "d048d76f-d94d-4961-b985-eb369385d9ac",
   "metadata": {},
   "source": [
    "21.Accept a phone number as input. A valid phone number should satisfy \n",
    "the following constraints.\n",
    "(1) The number should start with one of these digits: 6, 7, 8, 9\n",
    "(2) The number should be exactly 10 digits long.\n",
    "(3) No digit should appear more than 7 times in the number.\n",
    "(4) No digit should appear more than 5 times in a row in the \n",
    "number.\n",
    "If the fourth condition is not very clear, then consider this example: \n",
    "the number 9888888765 is invalid because the digit 8 appears more \n",
    "than 5 times in a row. Print the string valid if the phone number is \n",
    "valid. If not, print the string invalid."
   ]
  },
  {
   "cell_type": "code",
   "execution_count": 20,
   "id": "c6450703-b721-4b25-b2ca-9ee28b8a22b1",
   "metadata": {},
   "outputs": [
    {
     "name": "stdin",
     "output_type": "stream",
     "text": [
      " 9880572817\n"
     ]
    },
    {
     "name": "stdout",
     "output_type": "stream",
     "text": [
      "valid\n"
     ]
    }
   ],
   "source": [
    "n=input()\n",
    "a=False\n",
    "if len(n)==10 and int(n[0])>5 and n.isdigit():\n",
    "    for i in range(10):\n",
    "        if n.count(n[i])<8:\n",
    "            a=True\n",
    "            if n[i]*6 in n:\n",
    "                a=False\n",
    "                break\n",
    "        else:\n",
    "                break\n",
    "if a:\n",
    "    print('valid')\n",
    "else:\n",
    "    print('Invalid')"
   ]
  },
  {
   "cell_type": "markdown",
   "id": "40c20ab6-8dc6-4bbc-9b8c-8476a68db833",
   "metadata": {},
   "source": [
    "22. In the first line of input, accept a sequence of space-separated words. In the second line of \n",
    "input, accept a single word. If this word is not present in the sequence, print NO. If this word \n",
    "is present in the sequence, then print YES and in the next line of the output, print the number \n",
    "of times the word appears in the sequence."
   ]
  },
  {
   "cell_type": "code",
   "execution_count": 23,
   "id": "671bcd81-a28e-40e4-b781-687d1eef4316",
   "metadata": {},
   "outputs": [
    {
     "name": "stdin",
     "output_type": "stream",
     "text": [
      " ddd ddd dd ggg \n",
      " ddd\n"
     ]
    },
    {
     "name": "stdout",
     "output_type": "stream",
     "text": [
      "yes\n",
      "2\n"
     ]
    }
   ],
   "source": [
    "s=input().split(' ')\n",
    "a=input()\n",
    "if a in s:\n",
    "    print('yes')\n",
    "    \n",
    "    print(s.count(a))\n",
    "else:\n",
    "    print('No')"
   ]
  },
  {
   "cell_type": "code",
   "execution_count": null,
   "id": "f1382074-2f2a-4e90-845e-3d58f928aba3",
   "metadata": {},
   "outputs": [],
   "source": [
    "my name is Anusha ,Anusha studied MBA and Anusha learning python."
   ]
  },
  {
   "cell_type": "code",
   "execution_count": null,
   "id": "ea04c2b5-ebc4-4d98-a66d-4704a88acf01",
   "metadata": {},
   "outputs": [],
   "source": []
  },
  {
   "cell_type": "code",
   "execution_count": null,
   "id": "2b261fda-9e0b-48a9-928f-6a272477b082",
   "metadata": {},
   "outputs": [],
   "source": []
  },
  {
   "cell_type": "code",
   "execution_count": null,
   "id": "e6fb9fdc-6ab3-4dbe-88e0-8e8979a4cb53",
   "metadata": {},
   "outputs": [],
   "source": []
  }
 ],
 "metadata": {
  "kernelspec": {
   "display_name": "Python 3 (ipykernel)",
   "language": "python",
   "name": "python3"
  },
  "language_info": {
   "codemirror_mode": {
    "name": "ipython",
    "version": 3
   },
   "file_extension": ".py",
   "mimetype": "text/x-python",
   "name": "python",
   "nbconvert_exporter": "python",
   "pygments_lexer": "ipython3",
   "version": "3.10.6"
  }
 },
 "nbformat": 4,
 "nbformat_minor": 5
}
