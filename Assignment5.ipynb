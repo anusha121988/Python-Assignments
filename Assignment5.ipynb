{
 "cells": [
  {
   "cell_type": "markdown",
   "id": "16a8ab0f-318a-4115-8eeb-6c08a8843e3c",
   "metadata": {},
   "source": [
    "1. What does an empty dictionary's code look like?"
   ]
  },
  {
   "cell_type": "markdown",
   "id": "2b85b5fa-51a5-4595-ab1a-7539e66ce086",
   "metadata": {},
   "source": [
    "To create an empty dictionary, the dictionary should be set to {}. \n",
    "Two curly brackets {}"
   ]
  },
  {
   "cell_type": "markdown",
   "id": "57fb132c-04aa-4049-ac6e-ed871ce5c3f8",
   "metadata": {},
   "source": [
    "2. What is the value of a dictionary value with the key 'foo' and the value 42?"
   ]
  },
  {
   "cell_type": "markdown",
   "id": "f89daf57-99b3-47d1-aa20-5ac9a49dcbb5",
   "metadata": {},
   "source": [
    "{'foo':42}"
   ]
  },
  {
   "cell_type": "markdown",
   "id": "fa0738db-1978-413a-beaf-bea4398e8879",
   "metadata": {},
   "source": [
    "3. What is the most significant distinction between a dictionary and a list?"
   ]
  },
  {
   "cell_type": "markdown",
   "id": "3bb9418d-734f-494c-b859-4f007bac54ec",
   "metadata": {},
   "source": [
    "Dictionary is a generic type and returns an error if you try to find a key which is not there. List collection is a generic class and can store any data types to create a list.\n",
    "The items stored in a dictionary are unordered, while the items in a list are ordered."
   ]
  },
  {
   "cell_type": "markdown",
   "id": "194224a6-d4c9-4ae1-bb7e-485941aeeb4b",
   "metadata": {},
   "source": [
    "4. What happens if you try to access spam['foo'] if spam is {'bar': 100}?"
   ]
  },
  {
   "cell_type": "markdown",
   "id": "39565397-6ec8-46bc-b6bf-f5d2ff8ee2bc",
   "metadata": {},
   "source": [
    "You get a KeyError error."
   ]
  },
  {
   "cell_type": "markdown",
   "id": "1c48d3ed-f9a8-4342-9a52-ac0319c4e3a0",
   "metadata": {},
   "source": [
    "5. If a dictionary is stored in spam, what is the difference between the expressions 'cat'in spam and\n",
    "'cat'in spam.keys()?"
   ]
  },
  {
   "cell_type": "markdown",
   "id": "ecc6c339-008a-44d9-ae26-a59ed4b2a385",
   "metadata": {},
   "source": [
    "There is no difference. The in operator checks whether a value exists as a key in the dictionary."
   ]
  },
  {
   "cell_type": "markdown",
   "id": "ed5aba75-d7ca-4b34-97d5-714c97da882b",
   "metadata": {},
   "source": [
    "6. If a dictionary is stored in spam, what is the difference between the expressions 'cat' in spam and\n",
    "'cat' in spam.values()?"
   ]
  },
  {
   "cell_type": "markdown",
   "id": "abd07eaf-cb63-4929-9dd7-ad10b44a163a",
   "metadata": {},
   "source": [
    "'cat' in spam checks whether there is a 'cat' key in the dictionary, while 'cat' in spam.values() checks whether there is a value 'cat' for one of the keys in spam."
   ]
  },
  {
   "cell_type": "markdown",
   "id": "19e7c3a6-80fa-495a-b6ef-00a19666c489",
   "metadata": {},
   "source": [
    "7. What is a shortcut for the following code?\n",
    "if 'color' not in spam:\n",
    "spam['color'] = 'black'"
   ]
  },
  {
   "cell_type": "markdown",
   "id": "fc4caad3-134c-4a25-8456-6391be9eb111",
   "metadata": {},
   "source": [
    "spam.setdefault('color', 'black')"
   ]
  },
  {
   "cell_type": "markdown",
   "id": "c08f177b-6de1-41a5-a6dc-4471ce3db210",
   "metadata": {},
   "source": [
    "8. How do you \"pretty print\" dictionary values using which module and function?"
   ]
  },
  {
   "cell_type": "code",
   "execution_count": null,
   "id": "17866a9c-53c4-4c9e-bfe3-2bfb27394594",
   "metadata": {},
   "outputs": [],
   "source": []
  }
 ],
 "metadata": {
  "kernelspec": {
   "display_name": "Python 3 (ipykernel)",
   "language": "python",
   "name": "python3"
  },
  "language_info": {
   "codemirror_mode": {
    "name": "ipython",
    "version": 3
   },
   "file_extension": ".py",
   "mimetype": "text/x-python",
   "name": "python",
   "nbconvert_exporter": "python",
   "pygments_lexer": "ipython3",
   "version": "3.9.12"
  }
 },
 "nbformat": 4,
 "nbformat_minor": 5
}
