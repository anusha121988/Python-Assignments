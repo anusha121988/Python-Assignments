{
 "cells": [
  {
   "cell_type": "raw",
   "id": "3a9eb771-31f3-4b94-8651-5b8faedaa125",
   "metadata": {},
   "source": [
    "1. Write a class called BankAccount that has the following:\n",
    "        • A field called name that stores the name of the account holder.\n",
    "        • A field called amount that stores the amount of money in the account.\n",
    "        • A field called interest_rate that stores the account’s interest rate (as a percentage).\n",
    "        • A constructor that just sets the values of the three fields above.\n",
    "        • A method called apply_interest() that takes no arguments and applies the interest to the\n",
    "        account. It should just modify the amount field and not return anything. For instance, if the\n",
    "        account has $1000 in it and the interest rate is 3%, then the amount variable should be changed\n",
    "        to $1030 ($1000 + 3% interest).\n",
    "        Then test the class, by creating a new BankAccount object for a user named Juan De Hattatime who\n",
    "        has $1000 at 3% interest. Then do the following:\n",
    "        • Use the apply_interest() method to apply the interest to the account.\n",
    "        • Print out how much money is now in the account after applying the interest.\n",
    "        • Change the account’s interest rate to 2%.\n",
    "        • Use the apply_interest() method to apply the interest to the account again.\n",
    "        • Print out how much money is now in the account after applying the interest again.\n",
    "        "
   ]
  },
  {
   "cell_type": "code",
   "execution_count": 14,
   "id": "895189b2-4c0b-4806-ba87-b57eba310d9f",
   "metadata": {},
   "outputs": [],
   "source": [
    "class Bankaccount:\n",
    "    def __init__(self,name,amount,interest_rate):\n",
    "        self.name=name\n",
    "        self.amount=amount\n",
    "        self.interest_rate=interest_rate\n",
    "    def apply_interest(self):\n",
    "        with_interest=self.amount+((self.interest_rate/100)*self.amount)\n",
    "        print(f'The amount with {self.interest_rate} interest is :{with_interest}')\n",
    "     \n",
    "        \n",
    "    \n",
    "    "
   ]
  },
  {
   "cell_type": "code",
   "execution_count": 15,
   "id": "1c6c8f32-0b24-4013-a85c-000eaf9fd3d0",
   "metadata": {},
   "outputs": [],
   "source": [
    "b=Bankaccount('Juan De Hattatime',1000,3)"
   ]
  },
  {
   "cell_type": "code",
   "execution_count": 16,
   "id": "bd144366-63b5-4296-95ef-b111e790d5f6",
   "metadata": {},
   "outputs": [
    {
     "name": "stdout",
     "output_type": "stream",
     "text": [
      "The amount with 3 interest is :1030.0\n"
     ]
    }
   ],
   "source": [
    "b.apply_interest()"
   ]
  },
  {
   "cell_type": "code",
   "execution_count": 18,
   "id": "c694a1b3-a710-4d77-8a0c-c8f593456331",
   "metadata": {},
   "outputs": [],
   "source": [
    "b=Bankaccount('Juan De Hattatime',1000,2)"
   ]
  },
  {
   "cell_type": "code",
   "execution_count": 19,
   "id": "79947ac9-6e88-4e2e-96b9-d26d7a6991d1",
   "metadata": {},
   "outputs": [
    {
     "name": "stdout",
     "output_type": "stream",
     "text": [
      "The amount with 2 interest is :1020.0\n"
     ]
    }
   ],
   "source": [
    "b.apply_interest()"
   ]
  },
  {
   "cell_type": "raw",
   "id": "bf103375-a755-4667-9134-7f33d75581a5",
   "metadata": {},
   "source": [
    "2. Write a class called Item that represents an item for sale. It should have the following:\n",
    "      • Fields representing the name and price of the item\n",
    "      • A constructor that sets those fields,\n",
    "      • A __str__() method that returns a string containing the item name and price, with the price\n",
    "      formatted to exactly 2 decimal places\n",
    "      Test the class by creating a new item object and printing it out\n",
    "      \n",
    "      "
   ]
  },
  {
   "cell_type": "code",
   "execution_count": 27,
   "id": "073e4327-97fa-4a3d-a029-c34135cae7b6",
   "metadata": {},
   "outputs": [],
   "source": [
    "class item:\n",
    "    def __init__(self,name,price):\n",
    "        self.name=name\n",
    "        self.price=round(price,2)\n",
    "    def __str__(self):\n",
    "        print(f'Item name :{self.name} and price :{self.price}')\n",
    "        "
   ]
  },
  {
   "cell_type": "code",
   "execution_count": 30,
   "id": "156337ab-89c4-4de2-833e-8f48274d2b95",
   "metadata": {},
   "outputs": [],
   "source": [
    "item1=item('mobile',10100.786)"
   ]
  },
  {
   "cell_type": "code",
   "execution_count": 31,
   "id": "2a1dd4b6-b67d-4f24-aed3-1549ed6a5e6a",
   "metadata": {},
   "outputs": [
    {
     "name": "stdout",
     "output_type": "stream",
     "text": [
      "Item name :mobile and price :10100.79\n"
     ]
    }
   ],
   "source": [
    "item1.__str__()"
   ]
  },
  {
   "cell_type": "raw",
   "id": "b0fb7d7e-a326-46e5-bbbb-eb3027a09e26",
   "metadata": {},
   "source": [
    "3. Write a class called ShoppingCart that might be used in an online store. It should have the following:\n",
    "      • A list of Item objects that represents the items in the shopping cart\n",
    "      • A constructor that creates an empty list of items (the constructor should take no arguments ex\u0002cept self)\n",
    "      • A method called add() that takes a name and a price and adds an Item object with that name\n",
    "      and price to the shopping cart\n",
    "      • A method called total() that takes no arguments and returns the total cost of the items in the\n",
    "      cart\n",
    "      34\n",
    "      • A method called remove_items() that takes an item name (a string) and removes any Item\n",
    "      objects with that name from the shopping cart. It shouldn’t return anything.\n",
    "      • A __str__() method that returns a string containing info on all the items in the shopping cart\n",
    "      Then test out the shopping cart as follows: (1) create a shopping cart; (2) add several items to it; (3)\n",
    "      print the cart’s total cost (using the total() method); (4) remove one of the items types; (5) print out\n",
    "      the cart\n",
    "      "
   ]
  },
  {
   "cell_type": "code",
   "execution_count": 8,
   "id": "b41ed640-5fee-40fc-98d9-ae863e82eefb",
   "metadata": {},
   "outputs": [],
   "source": [
    "class ShoppingCart:\n",
    "    \n",
    "    try:\n",
    "        \n",
    "    \n",
    "        def __init__(self):\n",
    "            self.items=[]\n",
    "        #self.price=price\n",
    "    \n",
    "        def add(self,item,price):\n",
    "            self.price=price\n",
    "            if item  not in self.items:\n",
    "                self.items.append(item)\n",
    "        \n",
    "            \n",
    "        \n",
    "        def total(self):\n",
    "            total=0\n",
    "            for i in self.items:\n",
    "                self.price=i[1]\n",
    "                total+=self.price\n",
    "            return total\n",
    "        \n",
    "        def remove_items(self,item):\n",
    "        \n",
    "            if item  not in self.items:\n",
    "                self.items.remove(item)\n",
    "            else:\n",
    "                return print('not in cart')\n",
    "        def __str__(self):\n",
    "            print(self.items)\n",
    "            print(self.price)\n",
    "            print(total)\n",
    "    \n",
    "    except exception as e:\n",
    "        \n",
    "        print('some issue with shopping cart')\n",
    "        \n",
    "        \n",
    "        \n"
   ]
  },
  {
   "cell_type": "code",
   "execution_count": 9,
   "id": "93df6728-f34e-479e-bb58-dfbecbe252a3",
   "metadata": {},
   "outputs": [],
   "source": [
    "s=ShoppingCart()"
   ]
  },
  {
   "cell_type": "code",
   "execution_count": 10,
   "id": "367ede83-14d6-4dc3-89b6-65ac85aee3ba",
   "metadata": {},
   "outputs": [],
   "source": [
    "s.add('ww',45)"
   ]
  },
  {
   "cell_type": "code",
   "execution_count": 11,
   "id": "ef1662e4-ac8b-4cdd-9a6f-71e0dad36540",
   "metadata": {},
   "outputs": [
    {
     "ename": "TypeError",
     "evalue": "unsupported operand type(s) for +=: 'int' and 'str'",
     "output_type": "error",
     "traceback": [
      "\u001b[0;31m---------------------------------------------------------------------------\u001b[0m",
      "\u001b[0;31mTypeError\u001b[0m                                 Traceback (most recent call last)",
      "Cell \u001b[0;32mIn [11], line 1\u001b[0m\n\u001b[0;32m----> 1\u001b[0m \u001b[43ms\u001b[49m\u001b[38;5;241;43m.\u001b[39;49m\u001b[43mtotal\u001b[49m\u001b[43m(\u001b[49m\u001b[43m)\u001b[49m\n",
      "Cell \u001b[0;32mIn [8], line 21\u001b[0m, in \u001b[0;36mShoppingCart.total\u001b[0;34m(self)\u001b[0m\n\u001b[1;32m     19\u001b[0m \u001b[38;5;28;01mfor\u001b[39;00m i \u001b[38;5;129;01min\u001b[39;00m \u001b[38;5;28mself\u001b[39m\u001b[38;5;241m.\u001b[39mitems:\n\u001b[1;32m     20\u001b[0m     \u001b[38;5;28mself\u001b[39m\u001b[38;5;241m.\u001b[39mprice\u001b[38;5;241m=\u001b[39mi[\u001b[38;5;241m1\u001b[39m]\n\u001b[0;32m---> 21\u001b[0m     total\u001b[38;5;241m+\u001b[39m\u001b[38;5;241m=\u001b[39m\u001b[38;5;28mself\u001b[39m\u001b[38;5;241m.\u001b[39mprice\n\u001b[1;32m     22\u001b[0m \u001b[38;5;28;01mreturn\u001b[39;00m total\n",
      "\u001b[0;31mTypeError\u001b[0m: unsupported operand type(s) for +=: 'int' and 'str'"
     ]
    }
   ],
   "source": [
    "s.total()\n",
    "\n"
   ]
  },
  {
   "cell_type": "code",
   "execution_count": 79,
   "id": "033e37d9-6168-4c7e-9488-c5ce34bf1999",
   "metadata": {},
   "outputs": [
    {
     "name": "stdin",
     "output_type": "stream",
     "text": [
      "Enter the item name gg\n",
      "Price of an item 44\n"
     ]
    }
   ],
   "source": [
    "s.add()"
   ]
  },
  {
   "cell_type": "code",
   "execution_count": 80,
   "id": "2de00068-44a6-4099-9573-f081029e4225",
   "metadata": {},
   "outputs": [
    {
     "data": {
      "text/plain": [
       "99.0"
      ]
     },
     "execution_count": 80,
     "metadata": {},
     "output_type": "execute_result"
    }
   ],
   "source": [
    "s.total"
   ]
  },
  {
   "cell_type": "code",
   "execution_count": 81,
   "id": "f71fcb29-9f26-4fa4-9b38-947fcb970eda",
   "metadata": {},
   "outputs": [
    {
     "name": "stdout",
     "output_type": "stream",
     "text": [
      "Your items and the price :None and 99.0\n"
     ]
    }
   ],
   "source": [
    "s.__str__()"
   ]
  },
  {
   "cell_type": "code",
   "execution_count": 82,
   "id": "d6143355-2fdb-4f45-8ded-9bc56e2a6051",
   "metadata": {},
   "outputs": [
    {
     "name": "stdin",
     "output_type": "stream",
     "text": [
      "please enter remove item ww\n"
     ]
    }
   ],
   "source": [
    "s.remove_items()"
   ]
  },
  {
   "cell_type": "code",
   "execution_count": 83,
   "id": "eaebd2b7-e0b8-4ede-a3da-0157457ae422",
   "metadata": {},
   "outputs": [
    {
     "data": {
      "text/plain": [
       "99.0"
      ]
     },
     "execution_count": 83,
     "metadata": {},
     "output_type": "execute_result"
    }
   ],
   "source": [
    "s.total"
   ]
  },
  {
   "cell_type": "raw",
   "id": "64e55228-187a-441f-9db5-f50713486f22",
   "metadata": {},
   "source": [
    "\n",
    "4. Write a class called RestaurantCheck. It should have the following:\n",
    "      • Fields called check_number, sales_tax_percent, subtotal, table_number, and server_name\n",
    "      representing an identification for the check, the bill without tax added, the sales tax percentage,\n",
    "      the table number, and the name of the server.\n",
    "      • A constructor that sets the values of all four fields\n",
    "      • A method called calculate_total that takes no arguments (besides self) and returns the total\n",
    "      bill including sales tax.\n",
    "      • A method called print_check that writes to a file called check###.txt, where ### is the check\n",
    "      number and writes information about the check to that file, formatted like below:\n",
    "      Check Number: 443\n",
    "      Sales tax: 6.0%\n",
    "      Subtotal: $23.14\n",
    "      Total: $24.53\n",
    "      Table Number: 17\n",
    "      Server: Sonic the Hedgehog\n",
    "      Test the class by creating a RestaurantCheck object and calling the print_check() method"
   ]
  },
  {
   "cell_type": "code",
   "execution_count": 45,
   "id": "68c878fb-6f21-4da9-bd23-1dfdbf820ab6",
   "metadata": {},
   "outputs": [],
   "source": [
    "class RestaurantCheck:\n",
    "    def __init__(self,check_number,sales_tax_percent,subtotal,table_number,server_name):\n",
    "        self.check_number=check_number\n",
    "        self.sales_tax_percent=sales_tax_percent\n",
    "        self.subtotal=subtotal\n",
    "        self.table_number=table_number\n",
    "        self.server_name=server_name\n",
    "    def calculate_total(self):\n",
    "        self.total=self.subtotal+((self.sales_tax_percent/100)*self.subtotal)\n",
    "        return self.total\n",
    "    def print_check(self):\n",
    "        f=open(f'check {self.check_number}.txt','w')\n",
    "        \n",
    "        with open(f'check {self.check_number}.txt','w') as f:\n",
    "             f.write(f'''Check Number: {self.check_number},\n",
    "                      Sales tax: {self.sales_tax_percent},\n",
    "                     Subtotal: {self.subtotal},\n",
    "                     Total:{self.total} ,\n",
    "                     Table Number: {self.table_number},\n",
    "                      Server: {self.server_name}''')\n",
    "        print(\"done\")\n",
    "        f.close()\n",
    "             \n",
    "        \n",
    "        \n",
    "        "
   ]
  },
  {
   "cell_type": "code",
   "execution_count": 46,
   "id": "c8d8955c-6217-41c4-a6a7-d95d87411538",
   "metadata": {},
   "outputs": [],
   "source": [
    "r=RestaurantCheck(11,3,2000,4,'sonichedgehog')"
   ]
  },
  {
   "cell_type": "code",
   "execution_count": 47,
   "id": "e4dc7001-71d7-4172-a785-b79d1badef9b",
   "metadata": {},
   "outputs": [
    {
     "data": {
      "text/plain": [
       "2060.0"
      ]
     },
     "execution_count": 47,
     "metadata": {},
     "output_type": "execute_result"
    }
   ],
   "source": [
    "r.calculate_total()"
   ]
  },
  {
   "cell_type": "code",
   "execution_count": 48,
   "id": "8e9c7bc4-b0d8-4f17-a3d2-c68794c96486",
   "metadata": {},
   "outputs": [
    {
     "name": "stdout",
     "output_type": "stream",
     "text": [
      "done\n"
     ]
    }
   ],
   "source": [
    "r.print_check()"
   ]
  },
  {
   "cell_type": "code",
   "execution_count": 49,
   "id": "a6ffe9ad-b0f7-4f2c-ae8b-874f70df02b0",
   "metadata": {},
   "outputs": [],
   "source": [
    "r1=RestaurantCheck(22,3,3000,5,'sonichedgehog')"
   ]
  },
  {
   "cell_type": "code",
   "execution_count": 50,
   "id": "30e4e966-39c2-46cd-b713-7dd65642179a",
   "metadata": {},
   "outputs": [
    {
     "data": {
      "text/plain": [
       "3090.0"
      ]
     },
     "execution_count": 50,
     "metadata": {},
     "output_type": "execute_result"
    }
   ],
   "source": [
    "r1.calculate_total()"
   ]
  },
  {
   "cell_type": "code",
   "execution_count": 51,
   "id": "dd9189b9-0346-45af-9c80-35594abf3e7f",
   "metadata": {},
   "outputs": [
    {
     "name": "stdout",
     "output_type": "stream",
     "text": [
      "done\n"
     ]
    }
   ],
   "source": [
    "r1.print_check()"
   ]
  },
  {
   "cell_type": "raw",
   "id": "111f8cdd-86a0-42db-9139-a510443c5040",
   "metadata": {},
   "source": [
    "      \n",
    "5. Write a class called Ticket that has the following:\n",
    "      • A field cost for the price of the ticket and a string field time for the start time of the event\n",
    "      (assume times are in 24-hour format, like '18:35')\n",
    "      • A constructor that sets those variables\n",
    "      • A __str__() method that returns a string of the form Ticket(<cost>, <time>), where\n",
    "      <cost> and <time> are replaced with the values of the cost and time fields.\n",
    "      • A method called is_evening_time() that returns True or False, depending on whether the\n",
    "      time falls in the range from 18:00 to 23:59.\n",
    "      • A method called bulk_discount() that takes an integer n and returns the discount for buying n\n",
    "      tickets. There should be a 10% discount for buying 5 to 9 tickets, and a 20% discount for buying\n",
    "      10 or more. Otherwise, there is no discount. Return these percentages as integers.\n",
    "      Test the class by creating a Ticket item, printing it, calling the is_evening_time() method, and\n",
    "      calling the bulk_discount() method"
   ]
  },
  {
   "cell_type": "code",
   "execution_count": 50,
   "id": "014fe795-ee73-43d5-a8fd-d8138b81428d",
   "metadata": {},
   "outputs": [],
   "source": [
    "from datetime import datetime\n",
    "\n",
    "now = datetime.now()\n",
    "time=now.strftime('%H : %M')\n",
    "\n",
    "class Ticket:\n",
    "    def __init__(self,ticket_price,time):\n",
    "        self.ticket_price=ticket_price\n",
    "        self.time=time\n",
    "    def __str__(self):\n",
    "        return  (self.ticket_price, self.time)\n",
    "    def is_evening_time(self):\n",
    "        if self.time >= 1800 and self.time<= 2359:\n",
    "            return True\n",
    "        \n",
    "            \n",
    "    def bulk_discount(self,n):\n",
    "        if (n>=5 and n<=9):\n",
    "            return (f'with 10% discount ,total cost :{self.ticket_price+(n*self.ticket_price*0.1)}')\n",
    "        elif n>=10:\n",
    "            return (f'with 20% discount ,total cost :{self.ticket_price+(n*self.ticket_price*0.2)}')\n",
    "        else:\n",
    "                return (f'no discount , total cost :{n*self.ticket_price}')\n",
    "        \n",
    "                    \n",
    "                \n",
    "    "
   ]
  },
  {
   "cell_type": "code",
   "execution_count": 58,
   "id": "c82dd7b4-8076-48cd-b3d7-7a1aba37cfa2",
   "metadata": {},
   "outputs": [],
   "source": [
    "t=Ticket(400,1834)"
   ]
  },
  {
   "cell_type": "code",
   "execution_count": 52,
   "id": "307a65a9-72eb-45f3-a981-afa4cfc92f06",
   "metadata": {},
   "outputs": [
    {
     "data": {
      "text/plain": [
       "(400, 1834)"
      ]
     },
     "execution_count": 52,
     "metadata": {},
     "output_type": "execute_result"
    }
   ],
   "source": [
    "t.__str__()"
   ]
  },
  {
   "cell_type": "code",
   "execution_count": 53,
   "id": "d50b3eef-bc95-4f03-b9e9-f336090e92ce",
   "metadata": {},
   "outputs": [
    {
     "data": {
      "text/plain": [
       "True"
      ]
     },
     "execution_count": 53,
     "metadata": {},
     "output_type": "execute_result"
    }
   ],
   "source": [
    "t.is_evening_time()"
   ]
  },
  {
   "cell_type": "code",
   "execution_count": 54,
   "id": "afee6262-9fb3-402a-8ebd-cc36b05fca0c",
   "metadata": {},
   "outputs": [
    {
     "data": {
      "text/plain": [
       "'with 10% discount ,total cost :640.0'"
      ]
     },
     "execution_count": 54,
     "metadata": {},
     "output_type": "execute_result"
    }
   ],
   "source": [
    "t.bulk_discount(6)"
   ]
  },
  {
   "cell_type": "code",
   "execution_count": 56,
   "id": "7374dd1c-4fc9-439d-b4ec-5aa02f593ccf",
   "metadata": {},
   "outputs": [],
   "source": [
    "t1=Ticket(1200,2000)"
   ]
  },
  {
   "cell_type": "code",
   "execution_count": 57,
   "id": "612853c3-8a5b-4bff-b76f-ed681c81ce6f",
   "metadata": {},
   "outputs": [
    {
     "data": {
      "text/plain": [
       "'with 10% discount ,total cost :1800.0'"
      ]
     },
     "execution_count": 57,
     "metadata": {},
     "output_type": "execute_result"
    }
   ],
   "source": [
    "t1.bulk_discount(5)"
   ]
  },
  {
   "cell_type": "code",
   "execution_count": null,
   "id": "73a607e6-0015-4905-949f-45685f29dd7d",
   "metadata": {},
   "outputs": [],
   "source": []
  }
 ],
 "metadata": {
  "kernelspec": {
   "display_name": "Python 3 (ipykernel)",
   "language": "python",
   "name": "python3"
  },
  "language_info": {
   "codemirror_mode": {
    "name": "ipython",
    "version": 3
   },
   "file_extension": ".py",
   "mimetype": "text/x-python",
   "name": "python",
   "nbconvert_exporter": "python",
   "pygments_lexer": "ipython3",
   "version": "3.10.6"
  }
 },
 "nbformat": 4,
 "nbformat_minor": 5
}
